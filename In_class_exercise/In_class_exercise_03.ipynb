{
  "nbformat": 4,
  "nbformat_minor": 0,
  "metadata": {
    "kernelspec": {
      "display_name": "Python 3",
      "language": "python",
      "name": "python3"
    },
    "language_info": {
      "codemirror_mode": {
        "name": "ipython",
        "version": 3
      },
      "file_extension": ".py",
      "mimetype": "text/x-python",
      "name": "python",
      "nbconvert_exporter": "python",
      "pygments_lexer": "ipython3",
      "version": "3.7.4"
    },
    "colab": {
      "name": "In-class-exercise-03.ipynb",
      "provenance": [],
      "collapsed_sections": [],
      "include_colab_link": true
    }
  },
  "cells": [
    {
      "cell_type": "markdown",
      "metadata": {
        "id": "view-in-github",
        "colab_type": "text"
      },
      "source": [
        "<a href=\"https://colab.research.google.com/github/ABHISHEKSHANA10/abhishek_info5731_spring2021/blob/main/In_class_exercise/In_class_exercise_03.ipynb\" target=\"_parent\"><img src=\"https://colab.research.google.com/assets/colab-badge.svg\" alt=\"Open In Colab\"/></a>"
      ]
    },
    {
      "cell_type": "markdown",
      "metadata": {
        "id": "ZCVM-yaeRemj"
      },
      "source": [
        "## The third In-class-exercise (2/5/2020, 20 points in total)\r\n",
        "\r\n",
        "\r\n"
      ]
    },
    {
      "cell_type": "markdown",
      "metadata": {
        "id": "KLbJ7fAkRemt"
      },
      "source": [
        "The purpose of this exercise is to under users' information needs, then collect the data for analysis."
      ]
    },
    {
      "cell_type": "markdown",
      "metadata": {
        "id": "WblLXwkCRemu"
      },
      "source": [
        "Question 1 (8 points): Describe an interesting research question (or practical question) you have in mind, what kind of data should be collected to answer the question(s)? How many data needed for the analysis? The detail steps for collecting and save the data. "
      ]
    },
    {
      "cell_type": "code",
      "metadata": {
        "id": "hrWWDI-kRemu"
      },
      "source": [
        "# Your answer here (no code for this question, write down your answer as detail as possible for the above questions):\n",
        "\n",
        "'''\n",
        "Research Question: My research question is to scrap all the hashtags and tweetes of my favourite soccer player Lionel Messi.\n",
        "Steps:\n",
        "In order to do that, I had created a Twitter dev account and generated the consumer key, API key, and their respective passwords.\n",
        "For this assignment I am using Tweepy API. Tweepy is a python library that accesses the Twitter API. \n",
        "I just wanted to web scrap only 3 parameters. They are tweet_date, tweet_ID, and the tweet. The data size of Twitter is huge.\n",
        "I was able to get the latest 150 tweets and hashtags. After defining all the consumer keys & API key, I requested to access the Twitter website.\n",
        "Later, I used try catch to take information abput the user_id, Tweet_ID, AND tweetdate. Finally the dataframe is created to store the tweets. \n",
        "\n",
        "\n",
        "\n",
        "\n",
        "\n",
        "'''"
      ],
      "execution_count": null,
      "outputs": []
    },
    {
      "cell_type": "markdown",
      "metadata": {
        "id": "oHD1bXR_Remx"
      },
      "source": [
        "Question 2 (12 points): Write python code to collect 500 items of the data you plan to collect above."
      ]
    },
    {
      "cell_type": "code",
      "metadata": {
        "colab": {
          "base_uri": "https://localhost:8080/",
          "height": 485
        },
        "id": "GMabehXhRemx",
        "outputId": "c7b7091a-57fd-4699-fa70-c67d7444724d"
      },
      "source": [
        "#importing the packages\n",
        "import tweepy\n",
        "import time\n",
        "import pandas as pd\n",
        "\n",
        "#assigning the required variables\n",
        "username=\"@iMessi\"\n",
        "number_of_tweets = 500\n",
        "\n",
        "#enter the input for consumer_key, consumer_secret, access_token, access_token_secret.\n",
        "consumer_key=input(\"please enter consumer key\")\n",
        "consumer_secret=input(\"please enter consumer_secret\")\n",
        "access_token=input(\"please enter access_token\")\n",
        "access_token_secret=input(\"please enter access_token_secret\")\n",
        "\n",
        "#Defining the keys and variables\n",
        "def tweets(consumer_key,consumer_secret,access_token,access_token_secret):\n",
        "  auth = tweepy.OAuthHandler(consumer_key, consumer_secret)\n",
        "  auth.set_access_token(access_token, access_token_secret)\n",
        "  api = tweepy.API(auth,wait_on_rate_limit=True)\n",
        "  try:     \n",
        "    # Creation of query method using parameters\n",
        "    tweets = tweepy.Cursor(api.user_timeline,id=username).items(number_of_tweets)\n",
        "    # Pulling information from tweets iterable object\n",
        "    tweets_list = [[tweet.created_at, tweet.id, tweet.text] for tweet in tweets]\n",
        "    # Creation of dataframe from tweets list\n",
        "    # Add or remove columns as you remove tweet information\n",
        "    tweets_df = pd.DataFrame(tweets_list)\n",
        "    return tweets_df\n",
        "  except BaseException as e:\n",
        "      print('failed on_status,',str(e))\n",
        "      time.sleep(3)\n",
        "tweets(consumer_key,consumer_secret,access_token,access_token_secret)\n",
        "\n",
        "\n"
      ],
      "execution_count": null,
      "outputs": [
        {
          "output_type": "stream",
          "text": [
            "please enter consumer keyuyyTyqNcEx79jlafD1UONLs50\n",
            "please enter consumer_secretVYh7CmLjU6aAm10XNa950Ac0cidaBqdDvnGACy2LKXoUQ70mHT\n",
            "please enter access_token1357603800413003776-XOtoeJ9yPVslyMSwrVtvomv03e9dDC\n",
            "please enter access_token_secretoTzobvQnshffooJ10sywvpMzbH2xhc1hZtmI8M2CwxMN3\n"
          ],
          "name": "stdout"
        },
        {
          "output_type": "execute_result",
          "data": {
            "text/html": [
              "<div>\n",
              "<style scoped>\n",
              "    .dataframe tbody tr th:only-of-type {\n",
              "        vertical-align: middle;\n",
              "    }\n",
              "\n",
              "    .dataframe tbody tr th {\n",
              "        vertical-align: top;\n",
              "    }\n",
              "\n",
              "    .dataframe thead th {\n",
              "        text-align: right;\n",
              "    }\n",
              "</style>\n",
              "<table border=\"1\" class=\"dataframe\">\n",
              "  <thead>\n",
              "    <tr style=\"text-align: right;\">\n",
              "      <th></th>\n",
              "      <th>0</th>\n",
              "      <th>1</th>\n",
              "      <th>2</th>\n",
              "    </tr>\n",
              "  </thead>\n",
              "  <tbody>\n",
              "    <tr>\n",
              "      <th>0</th>\n",
              "      <td>2019-12-24 10:53:23</td>\n",
              "      <td>1209426840231841793</td>\n",
              "      <td>Messi is the only player to win 6 Ballon D'Ors...</td>\n",
              "    </tr>\n",
              "    <tr>\n",
              "      <th>1</th>\n",
              "      <td>2019-12-04 07:24:06</td>\n",
              "      <td>1202126417070305280</td>\n",
              "      <td>RT @its_me_Utsab: A player who deserve it !!@f...</td>\n",
              "    </tr>\n",
              "    <tr>\n",
              "      <th>2</th>\n",
              "      <td>2019-12-04 07:21:40</td>\n",
              "      <td>1202125801254244352</td>\n",
              "      <td>RT @fcbarcelona_br: Leo #Messi &amp;amp; #BallondO...</td>\n",
              "    </tr>\n",
              "    <tr>\n",
              "      <th>3</th>\n",
              "      <td>2019-09-23 22:04:16</td>\n",
              "      <td>1176255988950867968</td>\n",
              "      <td>https://t.co/AgOZKhvKof</td>\n",
              "    </tr>\n",
              "    <tr>\n",
              "      <th>4</th>\n",
              "      <td>2017-12-23 23:45:24</td>\n",
              "      <td>944715594536013825</td>\n",
              "      <td>Early christmas gift for you all:\\nMessi vs Re...</td>\n",
              "    </tr>\n",
              "    <tr>\n",
              "      <th>...</th>\n",
              "      <td>...</td>\n",
              "      <td>...</td>\n",
              "      <td>...</td>\n",
              "    </tr>\n",
              "    <tr>\n",
              "      <th>153</th>\n",
              "      <td>2014-09-25 14:46:49</td>\n",
              "      <td>515150435686944768</td>\n",
              "      <td>RT @ifootyvideo: #Chelsea 2-1 #Bolton, #ManCit...</td>\n",
              "    </tr>\n",
              "    <tr>\n",
              "      <th>154</th>\n",
              "      <td>2014-09-22 05:53:10</td>\n",
              "      <td>513928972602576898</td>\n",
              "      <td>Lionel #Messi has been directly involved in mo...</td>\n",
              "    </tr>\n",
              "    <tr>\n",
              "      <th>155</th>\n",
              "      <td>2014-09-22 05:48:09</td>\n",
              "      <td>513927713715798016</td>\n",
              "      <td>All the skills and goals highlights of #Messi ...</td>\n",
              "    </tr>\n",
              "    <tr>\n",
              "      <th>156</th>\n",
              "      <td>2014-09-22 05:43:33</td>\n",
              "      <td>513926554049445888</td>\n",
              "      <td>RT @ifootyvideo: #diMaria vs #Leicester, #Mess...</td>\n",
              "    </tr>\n",
              "    <tr>\n",
              "      <th>157</th>\n",
              "      <td>2014-09-18 19:02:10</td>\n",
              "      <td>512677980535939072</td>\n",
              "      <td>#Messi vs #Elche, #Messi vs #Villareal, #Messi...</td>\n",
              "    </tr>\n",
              "  </tbody>\n",
              "</table>\n",
              "<p>158 rows × 3 columns</p>\n",
              "</div>"
            ],
            "text/plain": [
              "                      0  ...                                                  2\n",
              "0   2019-12-24 10:53:23  ...  Messi is the only player to win 6 Ballon D'Ors...\n",
              "1   2019-12-04 07:24:06  ...  RT @its_me_Utsab: A player who deserve it !!@f...\n",
              "2   2019-12-04 07:21:40  ...  RT @fcbarcelona_br: Leo #Messi &amp; #BallondO...\n",
              "3   2019-09-23 22:04:16  ...                            https://t.co/AgOZKhvKof\n",
              "4   2017-12-23 23:45:24  ...  Early christmas gift for you all:\\nMessi vs Re...\n",
              "..                  ...  ...                                                ...\n",
              "153 2014-09-25 14:46:49  ...  RT @ifootyvideo: #Chelsea 2-1 #Bolton, #ManCit...\n",
              "154 2014-09-22 05:53:10  ...  Lionel #Messi has been directly involved in mo...\n",
              "155 2014-09-22 05:48:09  ...  All the skills and goals highlights of #Messi ...\n",
              "156 2014-09-22 05:43:33  ...  RT @ifootyvideo: #diMaria vs #Leicester, #Mess...\n",
              "157 2014-09-18 19:02:10  ...  #Messi vs #Elche, #Messi vs #Villareal, #Messi...\n",
              "\n",
              "[158 rows x 3 columns]"
            ]
          },
          "metadata": {
            "tags": []
          },
          "execution_count": 5
        }
      ]
    }
  ]
}