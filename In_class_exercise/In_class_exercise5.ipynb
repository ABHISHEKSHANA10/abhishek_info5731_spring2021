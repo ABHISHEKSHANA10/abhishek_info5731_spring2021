{
  "nbformat": 4,
  "nbformat_minor": 0,
  "metadata": {
    "colab": {
      "name": "In_class_exercise5.ipynb",
      "provenance": [],
      "collapsed_sections": [],
      "authorship_tag": "ABX9TyO+0aNOTaE8ig9tOpT91WZs",
      "include_colab_link": true
    },
    "kernelspec": {
      "name": "python3",
      "display_name": "Python 3"
    }
  },
  "cells": [
    {
      "cell_type": "markdown",
      "metadata": {
        "id": "view-in-github",
        "colab_type": "text"
      },
      "source": [
        "<a href=\"https://colab.research.google.com/github/ABHISHEKSHANA10/abhishek_info5731_spring2021/blob/main/In_class_exercise/In_class_exercise5.ipynb\" target=\"_parent\"><img src=\"https://colab.research.google.com/assets/colab-badge.svg\" alt=\"Open In Colab\"/></a>"
      ]
    },
    {
      "cell_type": "markdown",
      "metadata": {
        "id": "z7TahL04sVvR"
      },
      "source": [
        "# **The sixth in-class-exercise (20 points in total, 3/2/2021)**"
      ]
    },
    {
      "cell_type": "markdown",
      "metadata": {
        "id": "ejyZITr8sjnh"
      },
      "source": [
        "## **1. Rule-based information extraction (10 points)**\n",
        "\n",
        "Use any keywords related to data science, natural language processing, machine learning to search from google scholar, get the **titles** of 100 articles (either by web scraping or manually) about this topic, define a set of patterns to extract the research questions/problems, methods/algorithms/models, datasets, applications, or any other important information about this topic. "
      ]
    },
    {
      "cell_type": "code",
      "metadata": {
        "colab": {
          "resources": {
            "http://localhost:8080/nbextensions/google.colab/files.js": {
              "data": "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",
              "ok": true,
              "headers": [
                [
                  "content-type",
                  "application/javascript"
                ]
              ],
              "status": 200,
              "status_text": ""
            }
          },
          "base_uri": "https://localhost:8080/",
          "height": 73
        },
        "id": "CFwwWcn_ubOk",
        "outputId": "527e3fd6-b6e7-4452-a4e4-09eed0eb5e85"
      },
      "source": [
        "from google.colab import files\r\n",
        "loaded_files = files.upload()\r\n"
      ],
      "execution_count": null,
      "outputs": [
        {
          "output_type": "display_data",
          "data": {
            "text/html": [
              "\n",
              "     <input type=\"file\" id=\"files-9555af35-4fc0-4d35-8ec6-02d2225e804a\" name=\"files[]\" multiple disabled\n",
              "        style=\"border:none\" />\n",
              "     <output id=\"result-9555af35-4fc0-4d35-8ec6-02d2225e804a\">\n",
              "      Upload widget is only available when the cell has been executed in the\n",
              "      current browser session. Please rerun this cell to enable.\n",
              "      </output>\n",
              "      <script src=\"/nbextensions/google.colab/files.js\"></script> "
            ],
            "text/plain": [
              "<IPython.core.display.HTML object>"
            ]
          },
          "metadata": {
            "tags": []
          }
        },
        {
          "output_type": "stream",
          "text": [
            "Saving titles.csv to titles.csv\n"
          ],
          "name": "stdout"
        }
      ]
    },
    {
      "cell_type": "code",
      "metadata": {
        "colab": {
          "base_uri": "https://localhost:8080/"
        },
        "id": "9e8kJr125xDD",
        "outputId": "472fd012-4093-487f-fdc7-845bc987423a"
      },
      "source": [
        "import pandas as pd\r\n",
        "import spacy\r\n",
        "from spacy.matcher import Matcher\r\n",
        "from spacy.tokens import Span\r\n",
        "scholar_articles = pd.read_csv('titles.csv', encoding = 'ISO-8859-1')\r\n",
        "nlp = spacy.load(\"en_core_web_sm\")\r\n",
        "matcher = Matcher(nlp.vocab)\r\n",
        "data=0\r\n",
        "for i in scholar_articles['titles']:\r\n",
        "  data = str(data) + i\r\n",
        "output = []\r\n",
        "def patterns(data):\r\n",
        "  doc=nlp(data)\r\n",
        "  fir_pattern = [{\"TEXT\": {\"REGEX\": \"^\\w+$\"}}, {\"TEXT\": {\"REGEX\": \"^(B|b)ased\\w+$\"}}, {\"TEXT\": {\"REGEX\": \"^\\w+$\"}}]\r\n",
        "  sec_pattern = [{\"TEXT\": {\"REGEX\": \"^\\w+$\"}}, {\"TEXT\": {\"REGEX\": \"^[Ff](\\.?|or)$\"}}, {\"TEXT\": {\"REGEX\": \"^(N|n)\\w+$\"}},{\"TEXT\": {\"REGEX\": \"^(L|l)\\w+$\"}},{\"TEXT\": {\"REGEX\": \"^(P|p)\\w+$\"}},{\"TEXT\": {\"REGEX\": \"^\\w+$\"}}]\r\n",
        "  thir_pattern = [{\"TEXT\": {\"REGEX\": \"^(N|n)\\w+$\"}},{\"TEXT\": {\"REGEX\": \"^(L|l)\\w+$\"}},{\"TEXT\": {\"REGEX\": \"^(P|p)\\w+$\"}},{\"TEXT\": {\"REGEX\": \"^\\w+$\"}}]\r\n",
        "  matcher.add('pattern1', None,fir_pattern)\r\n",
        "  matcher.add('pattern2', None,sec_pattern)\r\n",
        "  matcher.add('pattern3', None,thir_pattern)\r\n",
        "  matches = matcher(doc)\r\n",
        "  for match_id, start, end in matches:\r\n",
        "    span = doc[start:end]\r\n",
        "    output.append(span.text)\r\n",
        "  return output\r\n",
        "print(patterns(data))"
      ],
      "execution_count": null,
      "outputs": [
        {
          "output_type": "stream",
          "text": [
            "['natural language processingNatural language', 'natural language processingNatural language', 'natural language processing toolkitAdvances', 'natural language processingNatural language', 'natural language processingStrategies for', 'processingStrategies for natural language processingHuman engineering', 'natural language processingHuman engineering', 'natural language processingPractical Natural', 'models for natural language processingIntroduction to', 'natural language processingIntroduction to', 'natural language processing platformIntroduction', 'natural language processingA maximum', 'natural language processingThe handbook', 'natural language processingNatural language', 'natural language processingNatural language', 'natural language processingNeural network', 'methods for natural language processingAutomated encoding', 'natural language processingAutomated encoding', 'natural language processingNatural language', 'natural language processingAsk me', 'networks for natural language processingRecent trends', 'natural language processingRecent trends', 'natural language processingComparative study', 'RNN for natural language processingA broad', 'natural language processingA broad', 'natural language processing system', 'Natural language processing and', 'natural language processingWhat can', 'natural language processing do', 'natural language processing techniques', 'natural language processing techniquesSurvey', 'natural language processing techniques', 'natural language processing techniques', 'natural language processing techniquesNatural', 'natural language processing methodsA', 'natural language processing methods', 'methods for natural language processingUsing natural', 'natural language processingUsing natural', 'models for natural language processingA literature', 'natural language processingA literature', 'natural language processingDeep learning', 'natural language processingA linguistic', 'space for natural language processingIntroduction to', 'natural language processingIntroduction to', 'natural language processingEvaluating natural', 'natural language processing systems', 'natural language processingPython natural', 'natural language processingDetection of', 'natural language processingNatural language', 'natural language processingChengqing Zong', 'natural language processingNatural language', 'natural language processingNatural language', 'natural language processingAnalyzing discourse', 'natural language processing toolPractical', 'techniques for natural language processingNatural language', 'natural language processingNatural language', 'natural language processingSpotting and', 'natural language processingNatural language', 'natural language processing system', 'interpretation for natural language processingNeural transfer', 'natural language processingNeural transfer', 'natural language processingProcessing natural', 'natural language processingMitigating gender', 'natural language processingNatural language', 'natural language processingNatural Language', 'natural language processingOpportunities for', 'processingOpportunities for natural language processing research', 'natural language processing research', 'natural language processing techniquesPrediction', 'natural language processingNatural language']\n"
          ],
          "name": "stdout"
        }
      ]
    },
    {
      "cell_type": "code",
      "metadata": {
        "colab": {
          "base_uri": "https://localhost:8080/"
        },
        "id": "HJ5a29PyIv-r",
        "outputId": "f07efa64-7165-4e70-f6d0-ffec35497467"
      },
      "source": [
        "titles = scholar_articles['titles'].tolist()\r\n",
        "for i in range(len(titles)):\r\n",
        "  doc = nlp(titles[i])\r\n",
        "  for token in doc: \r\n",
        "    print(token.text, \"-->\",token.dep_,\"-->\", token.pos_)\r\n",
        "    if i == 10:\r\n",
        "      break"
      ],
      "execution_count": null,
      "outputs": [
        {
          "output_type": "stream",
          "text": [
            "Natural --> amod --> ADJ\n",
            "language --> compound --> NOUN\n",
            "processing --> ROOT --> NOUN\n",
            "Handbook --> ROOT --> NOUN\n",
            "of --> prep --> ADP\n",
            "natural --> amod --> ADJ\n",
            "language --> compound --> NOUN\n",
            "processing --> pobj --> NOUN\n",
            "Natural --> amod --> ADJ\n",
            "language --> compound --> NOUN\n",
            "processing --> ROOT --> NOUN\n",
            ": --> punct --> PUNCT\n",
            "an --> det --> DET\n",
            "introduction --> appos --> NOUN\n",
            "Foundations --> ROOT --> NOUN\n",
            "of --> prep --> ADP\n",
            "statistical --> amod --> ADJ\n",
            "natural --> amod --> ADJ\n",
            "language --> compound --> NOUN\n",
            "processing --> pobj --> NOUN\n",
            "Natural --> amod --> ADJ\n",
            "language --> compound --> NOUN\n",
            "processing --> ROOT --> NOUN\n",
            "with --> prep --> ADP\n",
            "Python --> pobj --> PROPN\n",
            ": --> punct --> PUNCT\n",
            "analyzing --> acl --> VERB\n",
            "text --> dobj --> NOUN\n",
            "with --> prep --> ADP\n",
            "the --> det --> DET\n",
            "natural --> amod --> ADJ\n",
            "language --> compound --> NOUN\n",
            "toolkit --> pobj --> NOUN\n",
            "The --> det --> DET\n",
            "Stanford --> nmod --> PROPN\n",
            "CoreNLP --> punct --> PROPN\n",
            "natural --> amod --> ADJ\n",
            "language --> compound --> NOUN\n",
            "processing --> compound --> NOUN\n",
            "toolkit --> ROOT --> NOUN\n",
            "Advances --> ROOT --> NOUN\n",
            "in --> prep --> ADP\n",
            "natural --> amod --> ADJ\n",
            "language --> compound --> NOUN\n",
            "processing --> pobj --> NOUN\n",
            "Natural --> amod --> ADJ\n",
            "language --> compound --> NOUN\n",
            "processing --> ROOT --> NOUN\n",
            "Readings --> ROOT --> NOUN\n",
            "in --> prep --> ADP\n",
            "natural --> amod --> ADJ\n",
            "language --> compound --> NOUN\n",
            "processing --> pobj --> NOUN\n",
            "Strategies --> ROOT --> NOUN\n",
            "for --> prep --> ADP\n",
            "natural --> amod --> ADJ\n",
            "language --> compound --> NOUN\n",
            "processing --> pobj --> NOUN\n",
            "Human --> compound --> ADJ\n",
            "Practical --> amod --> PROPN\n",
            "Natural --> amod --> PROPN\n",
            "- --> punct --> PUNCT\n",
            "Language --> compound --> NOUN\n",
            "Processing --> ROOT --> NOUN\n",
            "by --> prep --> ADP\n",
            "Computer --> pobj --> NOUN\n",
            "A --> det --> DET\n",
            "primer --> ROOT --> NOUN\n",
            "on --> prep --> ADP\n",
            "neural --> amod --> ADJ\n",
            "network --> compound --> NOUN\n",
            "models --> pobj --> NOUN\n",
            "for --> prep --> ADP\n",
            "natural --> amod --> ADJ\n",
            "language --> compound --> NOUN\n",
            "processing --> pobj --> NOUN\n",
            "Introduction --> ROOT --> NOUN\n",
            "to --> prep --> ADP\n",
            "natural --> amod --> ADJ\n",
            "language --> compound --> NOUN\n",
            "processing --> pobj --> NOUN\n",
            "Allennlp --> ROOT --> NOUN\n",
            ": --> punct --> PUNCT\n",
            "A --> det --> DET\n",
            "deep --> amod --> ADJ\n",
            "semantic --> amod --> ADJ\n",
            "natural --> amod --> ADJ\n",
            "language --> compound --> NOUN\n",
            "processing --> compound --> NOUN\n",
            "platform --> npadvmod --> NOUN\n",
            "Introduction --> ROOT --> NOUN\n",
            "to --> prep --> ADP\n",
            "Arabic --> amod --> ADJ\n",
            "natural --> amod --> ADJ\n",
            "language --> compound --> NOUN\n",
            "processing --> pobj --> NOUN\n",
            "A --> det --> DET\n",
            "maximum --> amod --> ADJ\n",
            "entropy --> amod --> ADJ\n",
            "approach --> ROOT --> NOUN\n",
            "to --> prep --> ADP\n",
            "natural --> amod --> ADJ\n",
            "language --> compound --> NOUN\n",
            "processing --> pobj --> NOUN\n",
            "The --> det --> DET\n",
            "handbook --> ROOT --> NOUN\n",
            "of --> prep --> ADP\n",
            "computational --> amod --> ADJ\n",
            "linguistics --> pobj --> NOUN\n",
            "and --> cc --> CCONJ\n",
            "natural --> amod --> ADJ\n",
            "language --> compound --> NOUN\n",
            "processing --> conj --> NOUN\n",
            "HuggingFace --> poss --> PROPN\n",
            "'s --> case --> PART\n",
            "Transformers --> ROOT --> NOUN\n",
            ": --> punct --> PUNCT\n",
            "State --> nmod --> NOUN\n",
            "- --> punct --> PUNCT\n",
            "of --> prep --> ADP\n",
            "- --> punct --> PUNCT\n",
            "the --> det --> DET\n",
            "- --> punct --> PUNCT\n",
            "art --> pobj --> NOUN\n",
            "natural --> amod --> ADJ\n",
            "language --> compound --> NOUN\n",
            "processing --> ROOT --> NOUN\n",
            "Natural --> amod --> ADJ\n",
            "language --> compound --> NOUN\n",
            "processing --> ROOT --> NOUN\n",
            "( --> punct --> PUNCT\n",
            "almost --> advmod --> ADV\n",
            ") --> punct --> PUNCT\n",
            "from --> prep --> ADP\n",
            "scratch --> pobj --> NOUN\n",
            "An --> det --> DET\n",
            "overview --> ROOT --> NOUN\n",
            "of --> prep --> ADP\n",
            "empirical --> amod --> ADJ\n",
            "natural --> amod --> ADJ\n",
            "language --> compound --> NOUN\n",
            "processing --> pobj --> NOUN\n",
            "Natural --> amod --> ADJ\n",
            "language --> compound --> NOUN\n",
            "processing --> ROOT --> NOUN\n",
            "in --> prep --> ADP\n",
            "medicine --> pobj --> NOUN\n",
            ": --> punct --> PUNCT\n",
            "an --> det --> DET\n",
            "overview --> appos --> NOUN\n",
            "Natural --> amod --> ADJ\n",
            "language --> compound --> NOUN\n",
            "processing --> ROOT --> NOUN\n",
            ": --> punct --> PUNCT\n",
            "a --> det --> DET\n",
            "historical --> amod --> ADJ\n",
            "review --> appos --> NOUN\n",
            "Natural --> amod --> ADJ\n",
            "language --> compound --> NOUN\n",
            "processing --> ROOT --> NOUN\n",
            "and --> cc --> CCONJ\n",
            "text --> compound --> NOUN\n",
            "mining --> conj --> NOUN\n",
            "Natural --> amod --> ADJ\n",
            "language --> compound --> NOUN\n",
            "processing --> ROOT --> NOUN\n",
            "for --> prep --> ADP\n",
            "information --> compound --> NOUN\n",
            "retrieval --> pobj --> NOUN\n",
            "Deep --> amod --> ADJ\n",
            "learning --> ROOT --> NOUN\n",
            "in --> prep --> ADP\n",
            "natural --> amod --> ADJ\n",
            "language --> compound --> NOUN\n",
            "processing --> pobj --> NOUN\n",
            "Neural --> amod --> ADJ\n",
            "network --> compound --> NOUN\n",
            "methods --> ROOT --> NOUN\n",
            "for --> prep --> ADP\n",
            "natural --> amod --> ADJ\n",
            "language --> compound --> NOUN\n",
            "processing --> pobj --> NOUN\n",
            "Automated --> amod --> VERB\n",
            "encoding --> ROOT --> NOUN\n",
            "of --> prep --> ADP\n",
            "clinical --> amod --> ADJ\n",
            "documents --> pobj --> NOUN\n",
            "based --> acl --> VERB\n",
            "on --> prep --> ADP\n",
            "natural --> amod --> ADJ\n",
            "language --> compound --> NOUN\n",
            "processing --> pobj --> NOUN\n",
            "Natural --> amod --> ADJ\n",
            "language --> compound --> NOUN\n",
            "processing --> ROOT --> NOUN\n",
            "and --> cc --> CCONJ\n",
            "its --> poss --> DET\n",
            "future --> conj --> NOUN\n",
            "in --> prep --> ADP\n",
            "medicine --> pobj --> NOUN\n",
            "Arabic --> amod --> ADJ\n",
            "natural --> amod --> ADJ\n",
            "language --> compound --> NOUN\n",
            "processing --> ROOT --> NOUN\n",
            ": --> punct --> PUNCT\n",
            "Challenges --> appos --> NOUN\n",
            "and --> cc --> CCONJ\n",
            "solutions --> conj --> NOUN\n",
            "Unlocking --> advcl --> ADJ\n",
            "clinical --> amod --> ADJ\n",
            "data --> dobj --> NOUN\n",
            "from --> prep --> ADP\n",
            "narrative --> amod --> ADJ\n",
            "reports --> pobj --> NOUN\n",
            ": --> punct --> PUNCT\n",
            "a --> det --> DET\n",
            "study --> ROOT --> NOUN\n",
            "of --> prep --> ADP\n",
            "natural --> amod --> ADJ\n",
            "language --> compound --> NOUN\n",
            "processing --> pobj --> NOUN\n",
            "Ask --> ROOT --> VERB\n",
            "me --> dative --> PRON\n",
            "anything --> dobj --> PRON\n",
            ": --> punct --> PUNCT\n",
            "Dynamic --> amod --> ADJ\n",
            "memory --> compound --> NOUN\n",
            "networks --> appos --> NOUN\n",
            "for --> prep --> ADP\n",
            "natural --> amod --> ADJ\n",
            "language --> compound --> NOUN\n",
            "processing --> pobj --> NOUN\n",
            "Recent --> amod --> ADJ\n",
            "trends --> ROOT --> NOUN\n",
            "in --> prep --> ADP\n",
            "deep --> amod --> ADJ\n",
            "learning --> pobj --> NOUN\n",
            "based --> amod --> VERB\n",
            "natural --> amod --> ADJ\n",
            "language --> compound --> NOUN\n",
            "processing --> appos --> NOUN\n",
            "Comparative --> amod --> ADJ\n",
            "study --> ROOT --> NOUN\n",
            "of --> prep --> ADP\n",
            "CNN --> pobj --> PROPN\n",
            "and --> cc --> CCONJ\n",
            "RNN --> conj --> PROPN\n",
            "for --> prep --> ADP\n",
            "natural --> amod --> ADJ\n",
            "language --> compound --> NOUN\n",
            "processing --> pobj --> NOUN\n",
            "A --> det --> DET\n",
            "broad --> amod --> ADJ\n",
            "- --> punct --> PUNCT\n",
            "coverage --> nmod --> NOUN\n",
            "natural --> amod --> ADJ\n",
            "language --> compound --> NOUN\n",
            "processing --> compound --> NOUN\n",
            "system --> ROOT --> NOUN\n",
            ". --> punct --> PUNCT\n",
            "Natural --> amod --> ADJ\n",
            "language --> compound --> NOUN\n",
            "processing --> nmod --> NOUN\n",
            "and --> cc --> CCONJ\n",
            "information --> compound --> NOUN\n",
            "retrieval --> ROOT --> NOUN\n",
            "GENIES --> ROOT --> PROPN\n",
            ": --> punct --> PUNCT\n",
            "a --> det --> DET\n",
            "natural --> amod --> ADJ\n",
            "- --> punct --> PUNCT\n",
            "language --> compound --> NOUN\n",
            "processing --> compound --> NOUN\n",
            "system --> appos --> NOUN\n",
            "for --> prep --> ADP\n",
            "the --> det --> DET\n",
            "extraction --> pobj --> NOUN\n",
            "of --> prep --> ADP\n",
            "molecular --> amod --> ADJ\n",
            "pathways --> pobj --> NOUN\n",
            "from --> prep --> ADP\n",
            "journal --> compound --> NOUN\n",
            "articles --> pobj --> NOUN\n",
            "Natural --> amod --> ADJ\n",
            "language --> compound --> NOUN\n",
            "processing --> ROOT --> NOUN\n",
            ": --> punct --> PUNCT\n",
            "State --> appos --> NOUN\n",
            "of --> prep --> ADP\n",
            "the --> det --> DET\n",
            "art --> pobj --> NOUN\n",
            ", --> punct --> PUNCT\n",
            "current --> amod --> ADJ\n",
            "trends --> conj --> NOUN\n",
            "and --> cc --> CCONJ\n",
            "challenges --> conj --> NOUN\n",
            "Sentiment --> compound --> NOUN\n",
            "analysis --> ROOT --> NOUN\n",
            ": --> punct --> PUNCT\n",
            "Capturing --> ROOT --> NOUN\n",
            "favorability --> dobj --> NOUN\n",
            "using --> advcl --> VERB\n",
            "natural --> amod --> ADJ\n",
            "language --> compound --> NOUN\n",
            "processing --> dobj --> NOUN\n",
            "What --> dobj --> PRON\n",
            "can --> aux --> VERB\n",
            "natural --> amod --> ADJ\n",
            "language --> compound --> NOUN\n",
            "processing --> nsubj --> NOUN\n",
            "do --> ROOT --> AUX\n",
            "for --> prep --> ADP\n",
            "clinical --> amod --> ADJ\n",
            "decision --> compound --> NOUN\n",
            "support --> pobj --> NOUN\n",
            "? --> punct --> PUNCT\n",
            "Natural --> amod --> ADJ\n",
            "language --> compound --> NOUN\n",
            "processing --> ROOT --> NOUN\n",
            "and --> cc --> CCONJ\n",
            "the --> det --> DET\n",
            "representation --> conj --> NOUN\n",
            "of --> prep --> ADP\n",
            "clinical --> amod --> ADJ\n",
            "data --> pobj --> NOUN\n",
            "A --> det --> DET\n",
            "review --> ROOT --> NOUN\n",
            "of --> prep --> ADP\n",
            "natural --> amod --> ADJ\n",
            "language --> compound --> NOUN\n",
            "processing --> compound --> NOUN\n",
            "techniques --> pobj --> NOUN\n",
            "for --> prep --> ADP\n",
            "opinion --> compound --> NOUN\n",
            "mining --> compound --> NOUN\n",
            "systems --> pobj --> NOUN\n",
            "Sentiment --> compound --> NOUN\n",
            "analyzer --> ROOT --> NOUN\n",
            ": --> punct --> PUNCT\n",
            "Extracting --> ROOT --> VERB\n",
            "sentiments --> dobj --> NOUN\n",
            "about --> prep --> ADP\n",
            "a --> det --> DET\n",
            "given --> amod --> VERB\n",
            "topic --> pobj --> NOUN\n",
            "using --> acl --> VERB\n",
            "natural --> amod --> ADJ\n",
            "language --> compound --> NOUN\n",
            "processing --> compound --> NOUN\n",
            "techniques --> dobj --> NOUN\n",
            "Survey --> ROOT --> PROPN\n",
            "of --> prep --> ADP\n",
            "natural --> amod --> ADJ\n",
            "language --> compound --> NOUN\n",
            "processing --> compound --> NOUN\n",
            "techniques --> pobj --> NOUN\n",
            "in --> prep --> ADP\n",
            "bioinformatics --> pobj --> NOUN\n",
            "Evaluating --> ROOT --> VERB\n",
            "natural --> amod --> ADJ\n",
            "language --> compound --> NOUN\n",
            "processing --> compound --> NOUN\n",
            "techniques --> dobj --> NOUN\n",
            "in --> prep --> ADP\n",
            "information --> compound --> NOUN\n",
            "retrieval --> pobj --> NOUN\n",
            "Construction --> compound --> NOUN\n",
            "site --> compound --> NOUN\n",
            "accident --> compound --> NOUN\n",
            "analysis --> ROOT --> NOUN\n",
            "using --> acl --> VERB\n",
            "text --> nmod --> NOUN\n",
            "mining --> nmod --> NOUN\n",
            "and --> cc --> CCONJ\n",
            "natural --> amod --> ADJ\n",
            "language --> conj --> NOUN\n",
            "processing --> compound --> NOUN\n",
            "techniques --> dobj --> NOUN\n",
            "Natural --> amod --> ADJ\n",
            "language --> compound --> NOUN\n",
            "processing --> compound --> NOUN\n",
            "methods --> ROOT --> NOUN\n",
            "and --> cc --> CCONJ\n",
            "systems --> conj --> NOUN\n",
            "for --> prep --> ADP\n",
            "biomedical --> amod --> ADJ\n",
            "ontology --> compound --> NOUN\n",
            "learning --> pobj --> NOUN\n",
            "Extracting --> ROOT --> VERB\n",
            "important --> amod --> ADJ\n",
            "information --> dobj --> NOUN\n",
            "from --> prep --> ADP\n",
            "Chinese --> amod --> PROPN\n",
            "Operation --> compound --> PROPN\n",
            "Notes --> pobj --> PROPN\n",
            "with --> prep --> ADP\n",
            "natural --> amod --> ADJ\n",
            "language --> compound --> NOUN\n",
            "processing --> compound --> NOUN\n",
            "methods --> pobj --> NOUN\n",
            "A --> det --> DET\n",
            "comparison --> ROOT --> NOUN\n",
            "of --> prep --> ADP\n",
            "natural --> amod --> ADJ\n",
            "language --> compound --> NOUN\n",
            "processing --> compound --> NOUN\n",
            "methods --> pobj --> NOUN\n",
            "for --> prep --> ADP\n",
            "automated --> amod --> VERB\n",
            "coding --> pobj --> NOUN\n",
            "of --> prep --> ADP\n",
            "motivational --> amod --> ADJ\n",
            "interviewing --> pobj --> NOUN\n",
            "Neural --> amod --> ADJ\n",
            "network --> compound --> NOUN\n",
            "methods --> ROOT --> NOUN\n",
            "for --> prep --> ADP\n",
            "natural --> amod --> ADJ\n",
            "language --> compound --> NOUN\n",
            "processing --> pobj --> NOUN\n",
            "Using --> ROOT --> VERB\n",
            "natural --> amod --> ADJ\n",
            "- --> punct --> PUNCT\n",
            "language --> compound --> NOUN\n",
            "processing --> dobj --> NOUN\n",
            "to --> aux --> PART\n",
            "produce --> advcl --> VERB\n",
            "weather --> compound --> NOUN\n",
            "forecasts --> dobj --> NOUN\n",
            "A --> det --> DET\n",
            "simple --> amod --> ADJ\n",
            "introduction --> ROOT --> NOUN\n",
            "to --> prep --> ADP\n",
            "maximum --> amod --> ADJ\n",
            "entropy --> amod --> ADJ\n",
            "models --> pobj --> NOUN\n",
            "for --> prep --> ADP\n",
            "natural --> amod --> ADJ\n",
            "language --> compound --> NOUN\n",
            "processing --> pobj --> NOUN\n",
            "A --> det --> DET\n",
            "literature --> compound --> NOUN\n",
            "survey --> ROOT --> NOUN\n",
            "of --> prep --> ADP\n",
            "active --> amod --> ADJ\n",
            "machine --> compound --> NOUN\n",
            "learning --> pobj --> VERB\n",
            "in --> prep --> ADP\n",
            "the --> det --> DET\n",
            "context --> pobj --> NOUN\n",
            "of --> prep --> ADP\n",
            "natural --> amod --> ADJ\n",
            "language --> compound --> NOUN\n",
            "processing --> pobj --> NOUN\n",
            "Deep --> amod --> ADJ\n",
            "learning --> ROOT --> NOUN\n",
            "for --> prep --> ADP\n",
            "natural --> amod --> ADJ\n",
            "language --> compound --> NOUN\n",
            "processing --> pobj --> NOUN\n",
            ": --> punct --> PUNCT\n",
            "advantages --> appos --> NOUN\n",
            "and --> cc --> CCONJ\n",
            "challenges --> conj --> NOUN\n",
            "GluonCV --> ROOT --> ADJ\n",
            "and --> cc --> CCONJ\n",
            "GluonNLP --> conj --> NOUN\n",
            ": --> punct --> PUNCT\n",
            "Deep --> amod --> ADJ\n",
            "Learning --> ROOT --> NOUN\n",
            "in --> prep --> ADP\n",
            "Computer --> compound --> PROPN\n",
            "Vision --> nmod --> PROPN\n",
            "and --> cc --> CCONJ\n",
            "Natural --> compound --> PROPN\n",
            "Language --> conj --> PROPN\n",
            "Processing --> pobj --> PROPN\n",
            ". --> punct --> PUNCT\n",
            "Transformers --> ROOT --> NOUN\n",
            ": --> punct --> PUNCT\n",
            "State --> nmod --> NOUN\n",
            "- --> punct --> PUNCT\n",
            "of --> prep --> ADP\n",
            "- --> punct --> PUNCT\n",
            "the --> det --> DET\n",
            "- --> punct --> PUNCT\n",
            "art --> pobj --> NOUN\n",
            "natural --> amod --> ADJ\n",
            "language --> compound --> NOUN\n",
            "processing --> appos --> NOUN\n",
            "A --> det --> DET\n",
            "linguistic --> amod --> ADJ\n",
            "ontology --> ROOT --> NOUN\n",
            "of --> prep --> ADP\n",
            "space --> pobj --> NOUN\n",
            "for --> prep --> ADP\n",
            "natural --> amod --> ADJ\n",
            "language --> compound --> NOUN\n",
            "processing --> pobj --> NOUN\n",
            "Introduction --> ROOT --> NOUN\n",
            "to --> prep --> ADP\n",
            "Chinese --> amod --> ADJ\n",
            "natural --> amod --> ADJ\n",
            "language --> compound --> NOUN\n",
            "processing --> pobj --> NOUN\n",
            "Evaluating --> ROOT --> VERB\n",
            "natural --> amod --> ADJ\n",
            "language --> compound --> NOUN\n",
            "processing --> compound --> NOUN\n",
            "systems --> dobj --> NOUN\n",
            ": --> punct --> PUNCT\n",
            "An --> det --> DET\n",
            "analysis --> dobj --> NOUN\n",
            "and --> cc --> CCONJ\n",
            "review --> conj --> NOUN\n",
            "Transfer --> compound --> NOUN\n",
            "learning --> ROOT --> NOUN\n",
            "in --> prep --> ADP\n",
            "natural --> amod --> ADJ\n",
            "language --> compound --> NOUN\n",
            "processing --> pobj --> NOUN\n",
            "Python --> nmod --> PROPN\n",
            "natural --> amod --> ADJ\n",
            "language --> compound --> NOUN\n",
            "processing --> ROOT --> NOUN\n",
            "Detection --> ROOT --> NOUN\n",
            "of --> prep --> ADP\n",
            "duplicate --> compound --> ADJ\n",
            "defect --> compound --> NOUN\n",
            "reports --> pobj --> NOUN\n",
            "using --> acl --> VERB\n",
            "natural --> amod --> ADJ\n",
            "language --> compound --> NOUN\n",
            "processing --> dobj --> NOUN\n",
            "Natural --> amod --> ADJ\n",
            "language --> compound --> NOUN\n",
            "processing --> dep --> NOUN\n",
            "in --> prep --> ADP\n",
            "radiology --> pobj --> NOUN\n",
            ": --> punct --> PUNCT\n",
            "a --> det --> DET\n",
            "systematic --> amod --> ADJ\n",
            "review --> ROOT --> NOUN\n",
            "Review --> ROOT --> VERB\n",
            "on --> prep --> ADP\n",
            "natural --> amod --> ADJ\n",
            "language --> compound --> NOUN\n",
            "processing --> pobj --> NOUN\n",
            "Chengqing --> ROOT --> VERB\n",
            "Zong --> dobj --> PROPN\n",
            ": --> punct --> PUNCT\n",
            "Statistical --> amod --> ADJ\n",
            "natural --> amod --> ADJ\n",
            "language --> compound --> NOUN\n",
            "processing --> ROOT --> NOUN\n",
            "Natural --> amod --> ADJ\n",
            "language --> compound --> NOUN\n",
            "processing --> ROOT --> NOUN\n",
            "and --> cc --> CCONJ\n",
            "semantical --> amod --> ADJ\n",
            "representation --> conj --> NOUN\n",
            "of --> prep --> ADP\n",
            "medical --> amod --> ADJ\n",
            "texts --> pobj --> NOUN\n",
            "Natural --> amod --> ADJ\n",
            "language --> compound --> NOUN\n",
            "processing --> ROOT --> NOUN\n",
            "of --> prep --> ADP\n",
            "lyrics --> pobj --> NOUN\n",
            "Challenges --> ROOT --> NOUN\n",
            "in --> prep --> ADP\n",
            "natural --> amod --> ADJ\n",
            "language --> compound --> NOUN\n",
            "processing --> pobj --> NOUN\n",
            "Natural --> amod --> ADJ\n",
            "language --> compound --> NOUN\n",
            "processing --> ROOT --> NOUN\n",
            "for --> prep --> ADP\n",
            "social --> amod --> ADJ\n",
            "media --> pobj --> NOUN\n",
            "Lexical --> amod --> ADJ\n",
            "knowledge --> compound --> NOUN\n",
            "representation --> ROOT --> NOUN\n",
            "and --> cc --> CCONJ\n",
            "natural --> amod --> ADJ\n",
            "language --> compound --> NOUN\n",
            "processing --> conj --> NOUN\n",
            "Analyzing --> ROOT --> VERB\n",
            "discourse --> amod --> NOUN\n",
            "processing --> dobj --> NOUN\n",
            "using --> advcl --> VERB\n",
            "a --> det --> DET\n",
            "simple --> amod --> ADJ\n",
            "natural --> amod --> ADJ\n",
            "language --> compound --> NOUN\n",
            "processing --> compound --> NOUN\n",
            "tool --> dobj --> NOUN\n",
            "Practical --> amod --> ADJ\n",
            "structured --> amod --> ADJ\n",
            "learning --> compound --> NOUN\n",
            "techniques --> ROOT --> NOUN\n",
            "for --> prep --> ADP\n",
            "natural --> amod --> ADJ\n",
            "language --> compound --> NOUN\n",
            "processing --> pobj --> NOUN\n",
            "Natural --> amod --> ADJ\n",
            "language --> compound --> NOUN\n",
            "processing --> ROOT --> NOUN\n",
            "for --> prep --> ADP\n",
            "Prolog --> compound --> ADJ\n",
            "programmers --> pobj --> NOUN\n",
            "Natural --> amod --> ADJ\n",
            "language --> compound --> NOUN\n",
            "processing --> compound --> NOUN\n",
            "future --> ROOT --> NOUN\n",
            "A --> det --> DET\n",
            "survey --> ROOT --> NOUN\n",
            "on --> prep --> ADP\n",
            "hate --> compound --> NOUN\n",
            "speech --> compound --> NOUN\n",
            "detection --> pobj --> NOUN\n",
            "using --> acl --> VERB\n",
            "natural --> amod --> ADJ\n",
            "language --> compound --> NOUN\n",
            "processing --> dobj --> NOUN\n",
            "Spotting --> ROOT --> VERB\n",
            "and --> cc --> CCONJ\n",
            "discovering --> conj --> VERB\n",
            "terms --> dobj --> NOUN\n",
            "through --> prep --> ADP\n",
            "natural --> amod --> ADJ\n",
            "language --> compound --> NOUN\n",
            "processing --> pobj --> NOUN\n",
            "Natural --> amod --> ADJ\n",
            "language --> compound --> NOUN\n",
            "processing --> ROOT --> NOUN\n",
            "with --> prep --> ADP\n",
            "Java --> pobj --> PROPN\n",
            "Natural --> amod --> ADJ\n",
            "language --> compound --> NOUN\n",
            "processing --> nmod --> NOUN\n",
            "and --> cc --> CCONJ\n",
            "information --> compound --> NOUN\n",
            "retrieval --> ROOT --> NOUN\n",
            "NL --> ROOT --> PROPN\n",
            "- --> punct --> PUNCT\n",
            "OOPS --> ROOT --> PROPN\n",
            ": --> punct --> PUNCT\n",
            "from --> intj --> ADP\n",
            "natural --> amod --> ADJ\n",
            "language --> pobj --> NOUN\n",
            "to --> aux --> PART\n",
            "object --> relcl --> VERB\n",
            "oriented --> amod --> ADJ\n",
            "requirements --> dobj --> NOUN\n",
            "using --> acl --> VERB\n",
            "the --> det --> DET\n",
            "natural --> amod --> ADJ\n",
            "language --> compound --> NOUN\n",
            "processing --> compound --> NOUN\n",
            "system --> dobj --> NOUN\n",
            "LOLITA --> npadvmod --> PROPN\n",
            "Wikipedia --> npadvmod --> PROPN\n",
            "- --> punct --> PUNCT\n",
            "based --> amod --> VERB\n",
            "semantic --> amod --> ADJ\n",
            "interpretation --> ROOT --> NOUN\n",
            "for --> prep --> ADP\n",
            "natural --> amod --> ADJ\n",
            "language --> compound --> NOUN\n",
            "processing --> pobj --> NOUN\n",
            "Neural --> amod --> ADJ\n",
            "transfer --> ROOT --> NOUN\n",
            "learning --> acl --> VERB\n",
            "for --> prep --> ADP\n",
            "natural --> amod --> ADJ\n",
            "language --> compound --> NOUN\n",
            "processing --> pobj --> NOUN\n",
            "Pre --> dep --> ADJ\n",
            "- --> dep --> ADJ\n",
            "trained --> amod --> VERB\n",
            "models --> ROOT --> NOUN\n",
            "for --> prep --> ADP\n",
            "natural --> amod --> ADJ\n",
            "language --> compound --> NOUN\n",
            "processing --> pobj --> NOUN\n",
            ": --> punct --> PUNCT\n",
            "A --> det --> DET\n",
            "survey --> ROOT --> NOUN\n",
            "Data --> compound --> NOUN\n",
            "statements --> ROOT --> NOUN\n",
            "for --> prep --> ADP\n",
            "natural --> amod --> ADJ\n",
            "language --> compound --> NOUN\n",
            "processing --> pobj --> NOUN\n",
            ": --> punct --> PUNCT\n",
            "Toward --> prep --> ADP\n",
            "mitigating --> pcomp --> VERB\n",
            "system --> compound --> NOUN\n",
            "bias --> dobj --> NOUN\n",
            "and --> cc --> CCONJ\n",
            "enabling --> conj --> VERB\n",
            "better --> amod --> ADJ\n",
            "science --> dobj --> NOUN\n",
            "The --> det --> DET\n",
            "social --> amod --> ADJ\n",
            "impact --> ROOT --> NOUN\n",
            "of --> prep --> ADP\n",
            "natural --> amod --> ADJ\n",
            "language --> compound --> NOUN\n",
            "processing --> pobj --> NOUN\n",
            "Processing --> ROOT --> VERB\n",
            "natural --> amod --> ADJ\n",
            "language --> dobj --> NOUN\n",
            "without --> prep --> ADP\n",
            "natural --> amod --> ADJ\n",
            "language --> compound --> NOUN\n",
            "processing --> pobj --> NOUN\n",
            "Mitigating --> ROOT --> VERB\n",
            "gender --> compound --> NOUN\n",
            "bias --> dobj --> NOUN\n",
            "in --> prep --> ADP\n",
            "natural --> amod --> ADJ\n",
            "language --> compound --> NOUN\n",
            "processing --> pobj --> NOUN\n",
            ": --> punct --> PUNCT\n",
            "Literature --> compound --> NOUN\n",
            "review --> parataxis --> NOUN\n",
            "A --> det --> DET\n",
            "general --> amod --> ADJ\n",
            "organization --> ROOT --> NOUN\n",
            "of --> prep --> ADP\n",
            "knowledge --> pobj --> NOUN\n",
            "for --> prep --> ADP\n",
            "natural --> amod --> ADJ\n",
            "language --> compound --> NOUN\n",
            "processing --> pobj --> NOUN\n",
            ": --> punct --> PUNCT\n",
            "the --> det --> DET\n",
            "penman --> nmod --> PROPN\n",
            "upper --> compound --> PROPN\n",
            "model --> appos --> NOUN\n",
            "The --> det --> DET\n",
            "Paninian --> amod --> ADJ\n",
            "approach --> ROOT --> NOUN\n",
            "to --> prep --> ADP\n",
            "natural --> amod --> ADJ\n",
            "language --> compound --> NOUN\n",
            "processing --> pobj --> NOUN\n",
            "Natural --> amod --> ADJ\n",
            "language --> compound --> NOUN\n",
            "processing --> ROOT --> NOUN\n",
            "in --> prep --> ADP\n",
            "an --> det --> DET\n",
            "operational --> amod --> ADJ\n",
            "clinical --> amod --> ADJ\n",
            "information --> compound --> NOUN\n",
            "system --> pobj --> NOUN\n",
            "Transformation --> npadvmod --> NOUN\n",
            "- --> punct --> PUNCT\n",
            "based --> amod --> VERB\n",
            "error --> npadvmod --> NOUN\n",
            "- --> punct --> PUNCT\n",
            "driven --> amod --> VERB\n",
            "learning --> nmod --> NOUN\n",
            "and --> cc --> CCONJ\n",
            "natural --> amod --> ADJ\n",
            "language --> conj --> NOUN\n",
            "processing --> dep --> NOUN\n",
            ": --> punct --> PUNCT\n",
            "A --> det --> DET\n",
            "case --> compound --> NOUN\n",
            "study --> ROOT --> NOUN\n",
            "in --> prep --> ADP\n",
            "part --> nmod --> NOUN\n",
            "- --> punct --> PUNCT\n",
            "of --> prep --> ADP\n",
            "- --> punct --> PUNCT\n",
            "speech --> pobj --> NOUN\n",
            "tagging --> pobj --> NOUN\n",
            "NLP --> ROOT --> PROPN\n",
            "( --> punct --> PUNCT\n",
            "natural --> amod --> ADJ\n",
            "language --> compound --> NOUN\n",
            "processing --> appos --> NOUN\n",
            ") --> punct --> PUNCT\n",
            "for --> prep --> ADP\n",
            "NLP --> pobj --> PROPN\n",
            "( --> punct --> PUNCT\n",
            "natural --> amod --> ADJ\n",
            "language --> compound --> NOUN\n",
            "programming --> appos --> NOUN\n",
            ") --> punct --> PUNCT\n",
            "Natural --> amod --> ADJ\n",
            "language --> compound --> NOUN\n",
            "processing --> ROOT --> NOUN\n",
            "for --> prep --> ADP\n",
            "enhancing --> pcomp --> VERB\n",
            "teaching --> dobj --> VERB\n",
            "and --> cc --> CCONJ\n",
            "learning --> conj --> NOUN\n",
            "The --> det --> DET\n",
            "hitchhiker --> poss --> NOUN\n",
            "'s --> case --> PART\n",
            "guide --> ROOT --> NOUN\n",
            "to --> prep --> ADP\n",
            "testing --> pcomp --> VERB\n",
            "statistical --> amod --> ADJ\n",
            "significance --> dobj --> NOUN\n",
            "in --> prep --> ADP\n",
            "natural --> amod --> ADJ\n",
            "language --> compound --> NOUN\n",
            "processing --> pobj --> NOUN\n",
            "Natural --> compound --> PROPN\n",
            "Language --> compound --> PROPN\n",
            "Processing --> ROOT --> PROPN\n",
            "in --> prep --> ADP\n",
            "Information --> compound --> PROPN\n",
            "Retrieval --> pobj --> PROPN\n",
            ". --> punct --> PUNCT\n",
            "Similarity --> npadvmod --> NOUN\n",
            "- --> punct --> PUNCT\n",
            "based --> amod --> VERB\n",
            "approaches --> ROOT --> NOUN\n",
            "to --> prep --> ADP\n",
            "natural --> amod --> ADJ\n",
            "language --> compound --> NOUN\n",
            "processing --> pobj --> NOUN\n",
            "Opportunities --> ROOT --> NOUN\n",
            "for --> prep --> ADP\n",
            "natural --> amod --> ADJ\n",
            "language --> compound --> NOUN\n",
            "processing --> compound --> NOUN\n",
            "research --> pobj --> NOUN\n",
            "in --> prep --> ADP\n",
            "education --> pobj --> NOUN\n",
            "Sentiment --> compound --> NOUN\n",
            "analyzer --> ROOT --> NOUN\n",
            ": --> punct --> PUNCT\n",
            "Extracting --> ROOT --> VERB\n",
            "sentiments --> dobj --> NOUN\n",
            "about --> prep --> ADP\n",
            "a --> det --> DET\n",
            "given --> amod --> VERB\n",
            "topic --> pobj --> NOUN\n",
            "using --> acl --> VERB\n",
            "natural --> amod --> ADJ\n",
            "language --> compound --> NOUN\n",
            "processing --> compound --> NOUN\n",
            "techniques --> dobj --> NOUN\n",
            "Prediction --> ROOT --> NOUN\n",
            "and --> cc --> CCONJ\n",
            "substantiation --> conj --> NOUN\n",
            ": --> punct --> PUNCT\n",
            "A --> det --> DET\n",
            "new --> amod --> ADJ\n",
            "approach --> ROOT --> NOUN\n",
            "to --> prep --> ADP\n",
            "natural --> amod --> ADJ\n",
            "language --> compound --> NOUN\n",
            "processing --> pobj --> NOUN\n",
            "Natural --> amod --> ADJ\n",
            "language --> compound --> NOUN\n",
            "processing --> ROOT --> NOUN\n",
            "to --> aux --> PART\n",
            "extract --> advcl --> VERB\n",
            "medical --> amod --> ADJ\n",
            "problems --> dobj --> NOUN\n",
            "from --> prep --> ADP\n",
            "electronic --> amod --> ADJ\n",
            "clinical --> amod --> ADJ\n",
            "documents --> pobj --> NOUN\n",
            ": --> punct --> PUNCT\n",
            "performance --> compound --> NOUN\n",
            "evaluation --> ROOT --> NOUN\n",
            "Subsymbolic --> nmod --> ADJ\n",
            "natural --> amod --> ADJ\n",
            "language --> compound --> NOUN\n",
            "processing --> ROOT --> NOUN\n",
            ": --> punct --> PUNCT\n",
            "An --> det --> DET\n",
            "integrated --> amod --> VERB\n",
            "model --> appos --> NOUN\n",
            "of --> prep --> ADP\n",
            "scripts --> pobj --> NOUN\n",
            ", --> punct --> PUNCT\n",
            "lexicon --> conj --> PROPN\n",
            ", --> punct --> PUNCT\n",
            "and --> cc --> CCONJ\n",
            "memory --> conj --> NOUN\n"
          ],
          "name": "stdout"
        }
      ]
    },
    {
      "cell_type": "markdown",
      "metadata": {
        "id": "Dq_7VGmrsum4"
      },
      "source": [
        "## **2. Domain-specific information extraction (10 points)**\n",
        "\n",
        "For the legal case used in the data cleaning exercise: [01-05-1 Adams v Tanner.txt](https://raw.githubusercontent.com/unt-iialab/info5731_spring2021/main/class_exercises/01-05-1%20%20Adams%20v%20Tanner.txt), use [legalNLP](https://lexpredict-lexnlp.readthedocs.io/en/latest/modules/extract/extract.html#nlp-based-extraction-methods) to extract the following inforation from the text (if the information is not exist, just print None):\n",
        "\n",
        "(1) acts, e.g., “section 1 of the Advancing Hope Act, 1986”\n",
        "\n",
        "(2) amounts, e.g., “ten pounds” or “5.8 megawatts”\n",
        "\n",
        "(3) citations, e.g., “10 U.S. 100” or “1998 S. Ct. 1”\n",
        "\n",
        "(4) companies, e.g., “Lexpredict LLC”\n",
        "\n",
        "(5) conditions, e.g., “subject to …” or “unless and until …”\n",
        "\n",
        "(6) constraints, e.g., “no more than”\n",
        "\n",
        "(7) copyright, e.g., “(C) Copyright 2000 Acme”\n",
        "\n",
        "(8) courts, e.g., “Supreme Court of New York”\n",
        "\n",
        "(9) CUSIP, e.g., “392690QT3”\n",
        "\n",
        "(10) dates, e.g., “June 1, 2017” or “2018-01-01”\n",
        "\n",
        "(11) definitions, e.g., “Term shall mean …”\n",
        "\n",
        "(12) distances, e.g., “fifteen miles”\n",
        "\n",
        "(13) durations, e.g., “ten years” or “thirty days”\n",
        "\n",
        "(14) geographic and geopolitical entities, e.g., “New York” or “Norway”\n",
        "\n",
        "(15) money and currency usages, e.g., “$5” or “10 Euro”\n",
        "\n",
        "(16) percents and rates, e.g., “10%” or “50 bps”\n",
        "\n",
        "(17) PII, e.g., “212-212-2121” or “999-999-9999”\n",
        "\n",
        "(18) ratios, e.g.,” 3:1” or “four to three”\n",
        "\n",
        "(19) regulations, e.g., “32 CFR 170”\n",
        "\n",
        "(20) trademarks, e.g., “MyApp (TM)”\n",
        "\n",
        "(21) URLs, e.g., “http://acme.com/”\n",
        "\n",
        "(22) addresses, e.g., “1999 Mount Read Blvd, Rochester, NY, USA, 14615”\n",
        "\n",
        "(23) persons, e.g., “John Doe"
      ]
    },
    {
      "cell_type": "code",
      "metadata": {
        "colab": {
          "base_uri": "https://localhost:8080/",
          "height": 1000
        },
        "id": "HuQm_CLBT7iZ",
        "outputId": "0c73edec-1f03-4bfc-9812-8ba36b85abc4"
      },
      "source": [
        "pip install lexnlp"
      ],
      "execution_count": null,
      "outputs": [
        {
          "output_type": "stream",
          "text": [
            "Collecting lexnlp\n",
            "\u001b[?25l  Downloading https://files.pythonhosted.org/packages/59/8f/775b5718bdee8b11bb06a4a49172abec78f9e94b865a7382b3b7d5f69cc5/lexnlp-1.8.0-py3-none-any.whl (9.8MB)\n",
            "\u001b[K     |████████████████████████████████| 9.8MB 7.3MB/s \n",
            "\u001b[?25hCollecting numpy==1.19.1\n",
            "\u001b[?25l  Downloading https://files.pythonhosted.org/packages/50/8f/29d5688614f9bba59931683d5d353d738d4a3007833219ee19c455732753/numpy-1.19.1-cp37-cp37m-manylinux2010_x86_64.whl (14.5MB)\n",
            "\u001b[K     |████████████████████████████████| 14.5MB 324kB/s \n",
            "\u001b[?25hCollecting reporters-db==2.0.3\n",
            "\u001b[?25l  Downloading https://files.pythonhosted.org/packages/6b/e9/498bada93e69e3162a027d9285e852c464d66aae23ec3c845700ee117414/reporters_db-2.0.3-py2.py3-none-any.whl (72kB)\n",
            "\u001b[K     |████████████████████████████████| 81kB 6.3MB/s \n",
            "\u001b[?25hCollecting datefinder-lexpredict==0.6.2.1\n",
            "  Downloading https://files.pythonhosted.org/packages/45/d1/e80c60a7c23a4b16338f33345be45c64bd6ff4ef5ab67350b8c94325b8b6/datefinder_lexpredict-0.6.2.1-py2.py3-none-any.whl\n",
            "Collecting joblib==0.14.0\n",
            "\u001b[?25l  Downloading https://files.pythonhosted.org/packages/8f/42/155696f85f344c066e17af287359c9786b436b1bf86029bb3411283274f3/joblib-0.14.0-py2.py3-none-any.whl (294kB)\n",
            "\u001b[K     |████████████████████████████████| 296kB 51.2MB/s \n",
            "\u001b[?25hCollecting regex==2020.7.14\n",
            "\u001b[?25l  Downloading https://files.pythonhosted.org/packages/c7/10/a5f40a296a199dda90432ba0af4dc4221aa5cde31c62b6088c88df971e9e/regex-2020.7.14-cp37-cp37m-manylinux2010_x86_64.whl (660kB)\n",
            "\u001b[K     |████████████████████████████████| 665kB 45.5MB/s \n",
            "\u001b[?25hCollecting us==2.0.2\n",
            "  Downloading https://files.pythonhosted.org/packages/88/04/04323aefa1871de30286d3decae7706481c73bd428cf0c08e158bfa259a6/us-2.0.2.tar.gz\n",
            "Collecting scipy==1.5.1\n",
            "\u001b[?25l  Downloading https://files.pythonhosted.org/packages/30/45/ff9df4beceab76f979ee0ea7f5d248596aa5b0c179aa3d30589a3f4549eb/scipy-1.5.1-cp37-cp37m-manylinux1_x86_64.whl (25.9MB)\n",
            "\u001b[K     |████████████████████████████████| 25.9MB 1.4MB/s \n",
            "\u001b[?25hCollecting num2words==0.5.10\n",
            "\u001b[?25l  Downloading https://files.pythonhosted.org/packages/eb/a2/ea800689730732e27711c41beed4b2a129b34974435bdc450377ec407738/num2words-0.5.10-py3-none-any.whl (101kB)\n",
            "\u001b[K     |████████████████████████████████| 102kB 7.6MB/s \n",
            "\u001b[?25hCollecting pycountry==20.7.3\n",
            "\u001b[?25l  Downloading https://files.pythonhosted.org/packages/76/73/6f1a412f14f68c273feea29a6ea9b9f1e268177d32e0e69ad6790d306312/pycountry-20.7.3.tar.gz (10.1MB)\n",
            "\u001b[K     |████████████████████████████████| 10.1MB 77.4MB/s \n",
            "\u001b[?25hCollecting scikit-learn==0.23.1\n",
            "\u001b[?25l  Downloading https://files.pythonhosted.org/packages/b8/7e/74e707b66490d4eb05f702966ad0990881127acecf9d5cdcef3c95ec6c16/scikit_learn-0.23.1-cp37-cp37m-manylinux1_x86_64.whl (6.8MB)\n",
            "\u001b[K     |████████████████████████████████| 6.8MB 34.6MB/s \n",
            "\u001b[?25hCollecting nltk==3.5\n",
            "\u001b[?25l  Downloading https://files.pythonhosted.org/packages/92/75/ce35194d8e3022203cca0d2f896dbb88689f9b3fce8e9f9cff942913519d/nltk-3.5.zip (1.4MB)\n",
            "\u001b[K     |████████████████████████████████| 1.4MB 39.7MB/s \n",
            "\u001b[?25hCollecting dateparser==0.7.2\n",
            "\u001b[?25l  Downloading https://files.pythonhosted.org/packages/82/9d/51126ac615bbc4418478d725a5fa1a0f112059f6f111e4b48cfbe17ef9d0/dateparser-0.7.2-py2.py3-none-any.whl (352kB)\n",
            "\u001b[K     |████████████████████████████████| 358kB 48.4MB/s \n",
            "\u001b[?25hCollecting gensim==3.8.3\n",
            "\u001b[?25l  Downloading https://files.pythonhosted.org/packages/5c/4e/afe2315e08a38967f8a3036bbe7e38b428e9b7a90e823a83d0d49df1adf5/gensim-3.8.3-cp37-cp37m-manylinux1_x86_64.whl (24.2MB)\n",
            "\u001b[K     |████████████████████████████████| 24.2MB 1.4MB/s \n",
            "\u001b[?25hCollecting Unidecode==1.1.1\n",
            "\u001b[?25l  Downloading https://files.pythonhosted.org/packages/d0/42/d9edfed04228bacea2d824904cae367ee9efd05e6cce7ceaaedd0b0ad964/Unidecode-1.1.1-py2.py3-none-any.whl (238kB)\n",
            "\u001b[K     |████████████████████████████████| 245kB 68.5MB/s \n",
            "\u001b[?25hCollecting requests==2.24.0\n",
            "\u001b[?25l  Downloading https://files.pythonhosted.org/packages/45/1e/0c169c6a5381e241ba7404532c16a21d86ab872c9bed8bdcd4c423954103/requests-2.24.0-py2.py3-none-any.whl (61kB)\n",
            "\u001b[K     |████████████████████████████████| 71kB 5.5MB/s \n",
            "\u001b[?25hCollecting pandas==0.24.2\n",
            "\u001b[?25l  Downloading https://files.pythonhosted.org/packages/22/e6/2d47835f91eb010036be207581fa113fb4e3822ec1b4bafb0d3d105fede6/pandas-0.24.2-cp37-cp37m-manylinux1_x86_64.whl (10.1MB)\n",
            "\u001b[K     |████████████████████████████████| 10.1MB 48.9MB/s \n",
            "\u001b[?25hRequirement already satisfied: six in /usr/local/lib/python3.7/dist-packages (from reporters-db==2.0.3->lexnlp) (1.15.0)\n",
            "Requirement already satisfied: python-dateutil>=2.4.2 in /usr/local/lib/python3.7/dist-packages (from datefinder-lexpredict==0.6.2.1->lexnlp) (2.8.1)\n",
            "Requirement already satisfied: pytz in /usr/local/lib/python3.7/dist-packages (from datefinder-lexpredict==0.6.2.1->lexnlp) (2018.9)\n",
            "Collecting jellyfish==0.6.1\n",
            "\u001b[?25l  Downloading https://files.pythonhosted.org/packages/61/3f/60ac86fb43dfbf976768e80674b5538e535f6eca5aa7806cf2fdfd63550f/jellyfish-0.6.1.tar.gz (132kB)\n",
            "\u001b[K     |████████████████████████████████| 133kB 51.5MB/s \n",
            "\u001b[?25hRequirement already satisfied: docopt>=0.6.2 in /usr/local/lib/python3.7/dist-packages (from num2words==0.5.10->lexnlp) (0.6.2)\n",
            "Collecting threadpoolctl>=2.0.0\n",
            "  Downloading https://files.pythonhosted.org/packages/f7/12/ec3f2e203afa394a149911729357aa48affc59c20e2c1c8297a60f33f133/threadpoolctl-2.1.0-py3-none-any.whl\n",
            "Requirement already satisfied: click in /usr/local/lib/python3.7/dist-packages (from nltk==3.5->lexnlp) (7.1.2)\n",
            "Requirement already satisfied: tqdm in /usr/local/lib/python3.7/dist-packages (from nltk==3.5->lexnlp) (4.41.1)\n",
            "Requirement already satisfied: tzlocal in /usr/local/lib/python3.7/dist-packages (from dateparser==0.7.2->lexnlp) (1.5.1)\n",
            "Requirement already satisfied: smart-open>=1.8.1 in /usr/local/lib/python3.7/dist-packages (from gensim==3.8.3->lexnlp) (4.2.0)\n",
            "Requirement already satisfied: certifi>=2017.4.17 in /usr/local/lib/python3.7/dist-packages (from requests==2.24.0->lexnlp) (2020.12.5)\n",
            "Requirement already satisfied: idna<3,>=2.5 in /usr/local/lib/python3.7/dist-packages (from requests==2.24.0->lexnlp) (2.10)\n",
            "Requirement already satisfied: urllib3!=1.25.0,!=1.25.1,<1.26,>=1.21.1 in /usr/local/lib/python3.7/dist-packages (from requests==2.24.0->lexnlp) (1.24.3)\n",
            "Requirement already satisfied: chardet<4,>=3.0.2 in /usr/local/lib/python3.7/dist-packages (from requests==2.24.0->lexnlp) (3.0.4)\n",
            "Building wheels for collected packages: us, pycountry, nltk, jellyfish\n",
            "  Building wheel for us (setup.py) ... \u001b[?25l\u001b[?25hdone\n",
            "  Created wheel for us: filename=us-2.0.2-cp37-none-any.whl size=11929 sha256=3eb58cf5001c70654a9cc4d88012b514fc4cae70c97abac445ce6b1886e373cb\n",
            "  Stored in directory: /root/.cache/pip/wheels/e2/16/45/6453383ffa495670f0f6b80a3e697a9771d98cfbaf8b451e73\n",
            "  Building wheel for pycountry (setup.py) ... \u001b[?25l\u001b[?25hdone\n",
            "  Created wheel for pycountry: filename=pycountry-20.7.3-py2.py3-none-any.whl size=10746863 sha256=af660ea43a92cae91bbbdd9f2791cc686f325eeeaae07e16d73b9ba16e753c04\n",
            "  Stored in directory: /root/.cache/pip/wheels/33/4e/a6/be297e6b83567e537bed9df4a93f8590ec01c1acfbcd405348\n",
            "  Building wheel for nltk (setup.py) ... \u001b[?25l\u001b[?25hdone\n",
            "  Created wheel for nltk: filename=nltk-3.5-cp37-none-any.whl size=1434679 sha256=74cceb6619241932076f78a4632a3acc7e63187d1324b73c69f19acac0016ccb\n",
            "  Stored in directory: /root/.cache/pip/wheels/ae/8c/3f/b1fe0ba04555b08b57ab52ab7f86023639a526d8bc8d384306\n",
            "  Building wheel for jellyfish (setup.py) ... \u001b[?25l\u001b[?25hdone\n",
            "  Created wheel for jellyfish: filename=jellyfish-0.6.1-cp37-cp37m-linux_x86_64.whl size=72161 sha256=2dd576ea226cb21113a1ad85078d504020da07726c902008be4279934fbcc574\n",
            "  Stored in directory: /root/.cache/pip/wheels/9c/6f/33/92bb9a4b4562a60ba6a80cedbab8907e48bc7a8b1f369ea0ae\n",
            "Successfully built us pycountry nltk jellyfish\n",
            "\u001b[31mERROR: xarray 0.15.1 has requirement pandas>=0.25, but you'll have pandas 0.24.2 which is incompatible.\u001b[0m\n",
            "\u001b[31mERROR: tensorflow 2.4.1 has requirement numpy~=1.19.2, but you'll have numpy 1.19.1 which is incompatible.\u001b[0m\n",
            "\u001b[31mERROR: plotnine 0.6.0 has requirement pandas>=0.25.0, but you'll have pandas 0.24.2 which is incompatible.\u001b[0m\n",
            "\u001b[31mERROR: mizani 0.6.0 has requirement pandas>=0.25.0, but you'll have pandas 0.24.2 which is incompatible.\u001b[0m\n",
            "\u001b[31mERROR: google-colab 1.0.0 has requirement pandas~=1.1.0; python_version >= \"3.0\", but you'll have pandas 0.24.2 which is incompatible.\u001b[0m\n",
            "\u001b[31mERROR: google-colab 1.0.0 has requirement requests~=2.23.0, but you'll have requests 2.24.0 which is incompatible.\u001b[0m\n",
            "\u001b[31mERROR: fbprophet 0.7.1 has requirement pandas>=1.0.4, but you'll have pandas 0.24.2 which is incompatible.\u001b[0m\n",
            "\u001b[31mERROR: datascience 0.10.6 has requirement folium==0.2.1, but you'll have folium 0.8.3 which is incompatible.\u001b[0m\n",
            "\u001b[31mERROR: albumentations 0.1.12 has requirement imgaug<0.2.7,>=0.2.5, but you'll have imgaug 0.2.9 which is incompatible.\u001b[0m\n",
            "Installing collected packages: numpy, reporters-db, regex, datefinder-lexpredict, joblib, jellyfish, us, scipy, num2words, pycountry, threadpoolctl, scikit-learn, nltk, dateparser, gensim, Unidecode, requests, pandas, lexnlp\n",
            "  Found existing installation: numpy 1.19.5\n",
            "    Uninstalling numpy-1.19.5:\n",
            "      Successfully uninstalled numpy-1.19.5\n",
            "  Found existing installation: regex 2019.12.20\n",
            "    Uninstalling regex-2019.12.20:\n",
            "      Successfully uninstalled regex-2019.12.20\n",
            "  Found existing installation: joblib 1.0.1\n",
            "    Uninstalling joblib-1.0.1:\n",
            "      Successfully uninstalled joblib-1.0.1\n",
            "  Found existing installation: scipy 1.4.1\n",
            "    Uninstalling scipy-1.4.1:\n",
            "      Successfully uninstalled scipy-1.4.1\n",
            "  Found existing installation: scikit-learn 0.22.2.post1\n",
            "    Uninstalling scikit-learn-0.22.2.post1:\n",
            "      Successfully uninstalled scikit-learn-0.22.2.post1\n",
            "  Found existing installation: nltk 3.2.5\n",
            "    Uninstalling nltk-3.2.5:\n",
            "      Successfully uninstalled nltk-3.2.5\n",
            "  Found existing installation: gensim 3.6.0\n",
            "    Uninstalling gensim-3.6.0:\n",
            "      Successfully uninstalled gensim-3.6.0\n",
            "  Found existing installation: requests 2.23.0\n",
            "    Uninstalling requests-2.23.0:\n",
            "      Successfully uninstalled requests-2.23.0\n",
            "  Found existing installation: pandas 1.1.5\n",
            "    Uninstalling pandas-1.1.5:\n",
            "      Successfully uninstalled pandas-1.1.5\n",
            "Successfully installed Unidecode-1.1.1 datefinder-lexpredict-0.6.2.1 dateparser-0.7.2 gensim-3.8.3 jellyfish-0.6.1 joblib-0.14.0 lexnlp-1.8.0 nltk-3.5 num2words-0.5.10 numpy-1.19.1 pandas-0.24.2 pycountry-20.7.3 regex-2020.7.14 reporters-db-2.0.3 requests-2.24.0 scikit-learn-0.23.1 scipy-1.5.1 threadpoolctl-2.1.0 us-2.0.2\n"
          ],
          "name": "stdout"
        },
        {
          "output_type": "display_data",
          "data": {
            "application/vnd.colab-display-data+json": {
              "pip_warning": {
                "packages": [
                  "numpy",
                  "pandas",
                  "requests"
                ]
              }
            }
          },
          "metadata": {
            "tags": []
          }
        }
      ]
    },
    {
      "cell_type": "code",
      "metadata": {
        "id": "6Z0C_MHhWORg"
      },
      "source": [
        "import pandas as pd\r\n",
        "import urllib\r\n",
        "text = []\r\n",
        "file = urllib.request.urlopen(\"https://raw.githubusercontent.com/unt-iialab/info5731_spring2021/main/class_exercises/01-05-1%20%20Adams%20v%20Tanner.txt\")\r\n",
        "for i in file:\r\n",
        "  content = i.decode(\"utf-8\")\r\n",
        "  clean_data = content.replace('\\r\\n', ' ')\r\n",
        "  if clean_data:\r\n",
        "    text.append(clean_data)"
      ],
      "execution_count": null,
      "outputs": []
    },
    {
      "cell_type": "code",
      "metadata": {
        "colab": {
          "base_uri": "https://localhost:8080/"
        },
        "id": "HyrOsbO5XB1s",
        "outputId": "26829c7a-70d3-4254-b2f5-d7437b98e7b5"
      },
      "source": [
        "def final(text, a):\r\n",
        "   final_string = a.join(text)\r\n",
        "   return final_string\r\n",
        "a = \"\"\r\n",
        "Text = final(text, a)\r\n",
        "print(Text)"
      ],
      "execution_count": null,
      "outputs": [
        {
          "output_type": "stream",
          "text": [
            " 5 Ala. 740 Supreme Court of Alabama. ADAMS v. TANNER AND HORTON. June Term, 1843. Synopsis WRIT of Error to the Circuit Court of Sumter.     West Headnotes (2)   [1] Chattel Mortgages Crops A growing crop has such an existence as to be the subject-matter of a mortgage or other contract which passes an interest to vest in possession, either immediately or at a future time. 4 Cases that cite this headnote  [2] Creditors’ Remedies Lien and Priority Under St.1821, prohibiting a levy on a crop until it has been gathered, no lien attaches in favor of a fi. fa. on a growing crop, nor does such lien attach until after the crop has been gathered. 5 Cases that cite this headnote  **1 This was a trial of the right of property under the statute. In November, 1840, an execution issued from the circuit court of Sumter, at the suit of the plaintiff in error, requiring the sheriff of that county, to make of the goods, &c., of Allen Harrison and others, the sum of thirty-seven hundred and seventy-seven 80-100 dollars, besides costs. This execution was levied on thirty bales of cotton, as the property of Allen Harrison, which was claimed, and a bond given to try the right. An issue was made up to try the question of the liability of the cotton to the plaintiff’s execution, and submitted to a jury. On the trial, a bill of exceptions was sealed at the instance of the plaintiff. The plaintiff proved that he recovered his judgment in October, 1839; that an execution *741 was issued thereon on the 7th Nov. thereafter, and that alias and pluries fieri facias’, issued regularly up to the time levy was made; that the cotton levied on was growed on the plantation of Harrison, and cultivated by the hands in his service. It was proved by the claimants, by the production of a written contract, that Harrison, on the twenty-second of May, 1840, in consideration that the claimants were involved, as indorsers for Burton & Harrison of Sumter county, and were then exposed to an execution, amounting to upwards of fourteen thousand dollars, bargained and sold to the claimants all his growing crop of cotton &c., consisting of one hundred and twenty acres, &c. Allen Harrison promised and obliged himself to give up his crop to the use of the claimants at any time to save them from suffering as his indorsers; if the crop matured and was gathered he undertook to deliver the cotton in Gainesville. The claimants came from Tennessee, (where they resided) about the first of September, 1840, bringing with them three or four white laborers, and took possession of the crop and slaves, and with the latter, and white laborers, gathered the cotton, prepared it for market, and when levied on, it was in a ware-house in Gainesville. The plaintiff then proved by Harrison, that the claimants took possession of the crop, while he was absent, and disposed of it without his consent. It was admitted, that the contract was made in good faith. The court charged the jury, that the plaintiff had no lien by virtue of his judgment, and execution on the growing crop; that Harrison had a right to convey it, without being in any manner restrained by them; that the writing adduced, was a sale of the crop, but if it was not, and the lien of the fieri facias would have attached upon it, when gathered, yet if the claimants obtained possession on the first of September, and controlled the gathering of the crop, then no lien attached, and it was not subject to the levy. Attorneys and Law Firms R. H. SMITH, for the plaintiff, in error, made the following points.--1. The crop of Harrison, must, in May, 1840, have been in an immature state, and it is insisted, was not the subject of a sale. 2. By the common law, a growing crop could be levied on and sold, [1 Salk. Rep. 361; 1 Bos. & P. Rep. 307; 6 East’s Rep. 604, note 1; 2 Johns. Rep. 418, 422; 7 Mass. Rep. 34,] and our statue, [[[Aik. Dig. § 41, p. 167,] which forbids the levy of an *742 execution on a growing crop, is to receive a strict construction. It merely inhibits the levy, but the lien attaches, and a levy and sale may be made after the crop matures, and is gathered. 3. The contract does not purport to convey the growing crop, but is a mere executory agreement, requiring some act to be done by Harrison, in order to invest the claimants with the right of property. [Chit. on Con. 112, 207; 3 Johns. Rep. 338, 424; 5 Wend. Rep. 26; 13 Johns. Rep. 235; 8 Dowl. Rep, 693;] and until this act was done, the crop, no matter by who gathered, because liable to be seized for Harrison’s debts. A court of chancery would not compel a specific performance of the contract at the claimant’s instance. 4. The charge of the court is also objectionable in deciding disputed facts. W. M. MURPHY, with whom was W. G. JONES, for the defendant--cited the act of 1821, [Aik. Dig. 167,] which declares it to be lawful to levy an execution on a planted crop, until it is gathered, and contended that no lien attached in favor of the plaintiff. This being the case, the defendant in execution was not restrained from making the contract which he did with the claimants. **2 The lien of an execution is destroyed by an injunction, because it takes away the right to levy it. In short, whenever the right to levy an execution is but temporarily suspended, or withdrawn, the lien is during that time lost. [[[[Whipple v. Foot, 2 Johns. Rep. 216; 3 Wash. C. C. Rep. 66; 4 How. Rep. 130.] It is admitted that the contract between the defendant in execution, and the claimants, was in good faith, if so, the severance and removal of the cotton gave the latter a good title against all creditors of the former. Opinion  COLLIER, C. J.  There can be no doubt that a growing crop has such an existence as to be the subject matter of a sale, mortgage, or other contract which possess an interest to vest in possession, either immediately or at some future time. This proposition has frequently been assumed as unquestionable; the point of inquiry generally being, whether under a statute of frauds, such as the 29 Chas. 2, it is a mere chattel, and transferrable by parol without writing. [Chitty on Con. 241-2, 332; Whipple v. Foot, 2 Johns. Rep. 422; Stewart v. Doughty, 9 Johns. Rep. 112; *743 Austin v. Sawyer, 9 Cow. Rep. 39. See also Ravesies v. Lee & Alston, at last term.] The contract set out in the bill of exceptions, we are inclined to think evidences rather a mortgage than an absolute sale. It recites that the claimants are involved as indorsers of a mercantile firm, of which the defendant was a partner; that an execution for upwards of fourteen thousand dollars against their estate, is in the sheriff’s hands, and that a conveyance is made of the crop of cotton, corn and oats, which the grantor agrees to give up at any time to the use of the claimants, so as to prevent injury to them as indorsers. The defendant in execution might at any time have divested the interest which the contract vested in the claimants, by discharging their liability as his indorsers, or a judgment creditor might have satisfied the lien, and when the crop was gathered, have levied on, and sold it under a fieri facias. We will then consider the writing under which the claimants assert a right, as a mortgage with a power to take possession any time during the year, unless they should be relieved from their engagements as indorsers. It is not pretended that their liability has been satisfied, and it is admitted that the parties have acted with good faith, so that it is a dry question of law, whether the right of the plaintiff, or the claimants shall prevail. Assuming for the present that the execution of the plaintiffs did not operate a lien upon the planted crop previous to the contract of May, 1840, we will inquire whether the defendant in execution had such an interest as could be levied on and sold. The claimants had previous to the levy of the execution taken possession of the crop, prepared the cotton for market, and removed it to a ware-house. This possession, it is insisted, was a trespass, because it was acquired in the absence of the defendant in execution, and without his consent then given. Conceding the truth of the facts stated in the bill of exceptions, and we think it will not follow, that the possession of the claimants is a nullity, and that the case must be considered as if they had never interfered with the crop. The contract contains an express undertaking to give up the crop at any time the claimants might require it for their indemnity, and if they took possession of it in the absence of the grantor, (though without his consent,) if he subsequently acquiesced in it, the inference would be, if necessary, that their acts were approved by him. Taking this to be clear *744 law, and it will be seen, that the defendant in execution at the time of the levy had nothing more than a mere equitable right to redeem the cotton by paying the debts indorsed by the claimants. He had no possession coupled with this equity, but only a naked equity, which it has been held cannot be reached by an ordinary execution. [Perkins and Elliott v. Mayfield, 5 Porter’s Rep. 182.] **3 This brings us back to the question, whether the execution of the plaintiff was a lien on the growing crop, so as to defeat the mortgage to the claimants. It has been frequently mooted whether, at common law, corn, &c., before it is gathered, can be seized under a fieri facias. Mr. Dane, in remarking upon this point, says, “The American editor of Bacon’s Abridgment, says, ‘Wheat growing in the ground is a chattel, and subject to be taken in execution; and the sheriff may suffer it to grow till harvest, and then cut and sell it; or may perhaps sell it growing, and the purchaser will then be entitled to enter, for the purpose of cutting and carrying it away.” [He cites Whipple v. Foot, ut supra, also Poole’s case, Salk. 368; 1 Bos. & P. 397; 6 East, 604, n.] But Whipple v. Foot seems to be the only case that supports his position, that unripe wheat or corn may be taken in execution; and the same editor states that nothing can be taken in execution which cannot be sold. This position, says the learned commentator, is no doubt law. But it is unnecessary to consider how this matter stands at common law. The first section of the act of 1821, “To prevent sheriffs and other officers from levying executions in certain cases, enacts, that “It shall not be lawful for any sheriff or other officer, to levy a writ of fieri facias or other execution on the planted crop of a debtor, or person against whom an execution may issue, until the crop is gathered.” [Aik. Dig. 167.] Now here is an express inhibition to levy an execution on a crop while it remains on, or in the ground, and until it is severed from the soil to which it owes its growth. In respect to property thus situated, will the lien of an execution attach eo instanti upon its being placed in the hands of an officer? If so, the act cited, will only have the effect of keeping the right to levy it in abeyance until the crop is gathered. The lien of an execution does, not only operate so as to prevent the debtor from disposing of the property on which it attaches, but gives to the creditor the right to have it sold to satisfy his *745 judgment. The lien and the right to levy are intimately connected, and if the latter be taken away, or suspended, the effect, at common law, is the destruction of the former. This principle is fully established by Mansony and Hurtell v. The President, &c. of the Bank of the United States, and its assignees, and the citations contained in the opinion of the court in that case, as also in my opinion in Wood v. Gary, et al., both decided at the last term. That it was competent for the legislature to have made it unlawful to levy an execution on particular property, until its condition was changed, and still to give it a continuing lien, cannot be doubted; but there is nothing in the act in question to indicate that such is its intention. If the object was merely to suspend the sale, until the crop was gathered, it would have been very easy to have said so in explicit terms, but declaring as the statute does, in totidem verbis, that the execution shall not be levied, the legislature must be supposed to have meant what they have expressed. The act was induced by the doubts which existed as to what was the common law, and was intended to remove those doubts by declaring what should be the law in future. It does not create a lien or authorize a levy in a case in which the law, as it then existed, was silent. The idea that the lien attached upon the planted crop as soon as the execution was delivered to the sheriff, though the right to levy it was postponed until a severance took place, is attempted to be deduced from the last words of the section cited, viz: “until the crop is gathered.” These words cannot, upon any just principles of construction be regarded so potent as to give to an execution a retrospective effect. They do not refer to the lien, if they did they would postpone it until the crop was gathered; but it is the levy they relate to and postpone until that event takes place. **4 The right to levy an execution on a planted crop, then, being expressly taken away by the statute, the lien which is connected with and consequent upon that right, never attaches until severance. This being the case, the right of the defendant in execution to make the contract which he did, is unquestionable, and the title of the claimants, coupled as it was with the possession, was paramount to any lien which the execution could exert. The circuit judge may have mistaken the law in supposing that the contract was a sale, but if he did, an error in that respect was very immaterial, for whether a sale or mortgage, as we have *746 seen, under the facts of the case, the defendant in execution has no interest that could be seised and sold under execution. There is no assumption of any material fact in the charge; but the possession of the claimant, the time when acquired, the gathering of the crop, &c., are all referred to the determination of the jury; who are instructed, if they find them according to the evidence adduced, that no lien ever attached in favor of the plaintiff. The bona fides of the contract was conceded, so that no charge was necessary on that point, and it could not with propriety enter into the inquiry of the jury. It results from what has been said, that the judgment of the circuit court is affirmed.  DISSENTING OPINION.  ORMOND, J. **4 The statute which presents the question before the court is, that “it shall not be lawful for any sheriff or other officer to levy a writ of fieei facias or other execution, on the planted crop of a debtor, or person against whom an execution may issue, until the crop is gathered.” [Clay’s Dig. 210, § 46.] I shall not enter upon the enquiry, whether, at common law, an execution could be levied upon a growing crop, though I apprehend, it would not be difficult to maintain the affirmative of the proposition. It is sufficient for my purpose, that the statute supposes such to have been the law, as it doubtless was the practice. This act must be considered in connection with the other acts upon the same subject. The policy of the State, as indicated by these statutes, is undeniably that all the property of a debtor, real and personal, to which he has a legal title, shall be subject to sale by execution, and it appears to me that it would be difficult to assign a reason for the exemption of this species of property from the claims of judgment creditors, and for giving to the defendant in execution the right to dispose of it. It appears to me, with all deference, that the argument that because the sheriff was prohibited from levying on a ““planted crop,” that therefore the execution had lost its lien, and the debtor had the right to sell it, is a non sequitur. The mischief which the statute designed to remedy was, the sacrifice which would be necessarily made by the sale of an immature crop: the statute enables the debtor to retain it until it matures, and by severing it from the soil to put it *747 in a condition to bring its value--the lien in the mean time continuing in the plaintiff in execution. **5 If further confirmation of the correctness of this view were necessary, it will be found, I think, in the language employed by the legislature. The sheriff is forbidden to levy on a “planted crop” until the crop is gathered. Now, if the view taken by the majority of the court, is correct, the right secured to the plaintiff in execution, of levying on the crop after it is gathered, may be frustrated, as it was in this case, by a sale by the defendant in execution, whilst the crop is in an immature state. The construction which has been put upon the statute, involves the singular anomaly, that the legislature, for the protection of the debtor, has forbidden the plaintiff in execution to sell the property of his debtor, because it is not in a condition to bring its value, and yet permits the debtor, voluntarily, by a sale, to submit to the same sacrifice, for his own benefit. It is, in effect, a gift to the defendant in execution, of the growing crop, provided he does not gather it himself, but disposes of it in its then condition. This, I feel a thorough conviction, was not the intention of the legislature; but that it was to secure him from loss, by prohibiting a levy and sale of the crop, until it was gathered, when the temporary suspension of the right to sell, ceased. All Citations 5 Ala. 740, 1843 WL 284 End of Document © 2019 Thomson Reuters. No claim to original U.S. Government Works. Citing References (9) Treatment Title Date Type Depth Headnote(s) Cited by 1.  Booker v. Jones’s Adm’x 55 Ala. 266, 271 , Ala. Trover for Conversion of Cotton, with Counts in Case. APPEAL from the Circuit Court of Hale. Tried before the Hon. M. J. SAFFOLD. Dec Term 1876 Case — Cited by 2.  Lehman, Durr & Co. v. Marshall 47 Ala. 362, 376 , Ala. [TROVER FOR CONVERSION OF COTTON.] APPEAL from the City Court of Montgomery. Tried before Hon. JOHN D. CUNNINGHAM. Jan Term 1872 Case — Cited by 3.  Bibb v. Janney 45 Ala. 329, 334 , Ala. [GARNISHMENT; WAGES; WAIVER OF EXEMPTION.] APPEAL from City Court of Montgomery. Tried before Hon. JOHN D. CUNNINGHAM. Jan Term 1871 Case — Cited by 4.  McKenzie v. Lampley 31 Ala. 526, 527 , Ala. [TRIAL OF RIGHT OF PROPERTY IN COTTON.] APPEAL from the Circuit Court of Barbour. Tried before the Hon. S. D. HALE. Jan Term 1858 Case — Cited by 5.  Evans v. Lamar 21 Ala. 333, 335+ , Ala. ERROR to the Circuit Court of Autauga. Tried before the Hon. A. B. MOORE. Jun Term 1852 Case — Cited by  6.  Dewey v. Bowman 8 Cal. 145, 147 , Cal. The judgment of the Court below, against Jacob S. Cohen, should be reversed, for the following reasons: Because the finding of the Court was, so far as Cohen was concerned,... Jul Term 1857 Case — Mentioned by 7.  Rees v. Coats 65 Ala. 256, 258 , Ala. Trover for Conversion of Three Bales of Cotton. APPEAL from the Circuit Court of Etowah. Tried before the Hon. WM. L. WHITLOCK. Nov Term 1880 Case — Mentioned by 8.  Edwards v. Thompson 4 S.W. 913, 914 , Tenn. Appeal from circuit court, Weakley county. May 1887 Case — — 9.  Growing crops as subject to levy and seizure under attachment or execution 103 A.L.R. 464 Generally, at common law, growing crops raised by annual planting, while still attached to the soil, are regarded as personal chattels, subject to levy and seizure under attachment... 1936 ALR — — Table of Authorities (3) Treatment Referenced Title Type Depth Quoted Page Number Mentioned 1.  Austin v. Sawyer 9 Cow. 39, N.Y.Sup., 1828 Parol evidence is not admissible to contradict, or substantially vary, a written contract. And where A. quit-claimed land to W., on which a crop of wheat was growing, reserving the... Case 2 Cited  2.  Perkins v. Mayfield 5 Port. 182, Ala., 1837 On writ of error to the Circuit Court of Tuskaloosa. Case 2+ Mentioned 3.  Stewart v. Doughty 9 Johns. 108, N.Y.Sup., 1812 A. let to B. a farm for six years, and A. agreed “to render, yield and pay to A. the one half of all the wheat, rye, corn and other grain, raised on the farm in each year, in the... Case 2 Filings There are no Filings for this citation. Negative Treatment There are no Negative Treatment results for this citation. History There are no History results for this citation. \n"
          ],
          "name": "stdout"
        }
      ]
    },
    {
      "cell_type": "markdown",
      "metadata": {
        "id": "rSPMUD9I6m77"
      },
      "source": [
        "**Removing punctuations**"
      ]
    },
    {
      "cell_type": "code",
      "metadata": {
        "colab": {
          "base_uri": "https://localhost:8080/"
        },
        "id": "ca3hju92YcEQ",
        "outputId": "6e37b4ae-bf5b-423a-a17e-1b191ab8416e"
      },
      "source": [
        "import re\r\n",
        "Text = re.sub(r'[^\\w\\s]','',Text)\r\n",
        "print(Text)"
      ],
      "execution_count": null,
      "outputs": [
        {
          "output_type": "stream",
          "text": [
            " 5 Ala 740 Supreme Court of Alabama ADAMS v TANNER AND HORTON June Term 1843 Synopsis WRIT of Error to the Circuit Court of Sumter     West Headnotes 2   1 Chattel Mortgages Crops A growing crop has such an existence as to be the subjectmatter of a mortgage or other contract which passes an interest to vest in possession either immediately or at a future time 4 Cases that cite this headnote  2 Creditors Remedies Lien and Priority Under St1821 prohibiting a levy on a crop until it has been gathered no lien attaches in favor of a fi fa on a growing crop nor does such lien attach until after the crop has been gathered 5 Cases that cite this headnote  1 This was a trial of the right of property under the statute In November 1840 an execution issued from the circuit court of Sumter at the suit of the plaintiff in error requiring the sheriff of that county to make of the goods c of Allen Harrison and others the sum of thirtyseven hundred and seventyseven 80100 dollars besides costs This execution was levied on thirty bales of cotton as the property of Allen Harrison which was claimed and a bond given to try the right An issue was made up to try the question of the liability of the cotton to the plaintiffs execution and submitted to a jury On the trial a bill of exceptions was sealed at the instance of the plaintiff The plaintiff proved that he recovered his judgment in October 1839 that an execution 741 was issued thereon on the 7th Nov thereafter and that alias and pluries fieri facias issued regularly up to the time levy was made that the cotton levied on was growed on the plantation of Harrison and cultivated by the hands in his service It was proved by the claimants by the production of a written contract that Harrison on the twentysecond of May 1840 in consideration that the claimants were involved as indorsers for Burton  Harrison of Sumter county and were then exposed to an execution amounting to upwards of fourteen thousand dollars bargained and sold to the claimants all his growing crop of cotton c consisting of one hundred and twenty acres c Allen Harrison promised and obliged himself to give up his crop to the use of the claimants at any time to save them from suffering as his indorsers if the crop matured and was gathered he undertook to deliver the cotton in Gainesville The claimants came from Tennessee where they resided about the first of September 1840 bringing with them three or four white laborers and took possession of the crop and slaves and with the latter and white laborers gathered the cotton prepared it for market and when levied on it was in a warehouse in Gainesville The plaintiff then proved by Harrison that the claimants took possession of the crop while he was absent and disposed of it without his consent It was admitted that the contract was made in good faith The court charged the jury that the plaintiff had no lien by virtue of his judgment and execution on the growing crop that Harrison had a right to convey it without being in any manner restrained by them that the writing adduced was a sale of the crop but if it was not and the lien of the fieri facias would have attached upon it when gathered yet if the claimants obtained possession on the first of September and controlled the gathering of the crop then no lien attached and it was not subject to the levy Attorneys and Law Firms R H SMITH for the plaintiff in error made the following points1 The crop of Harrison must in May 1840 have been in an immature state and it is insisted was not the subject of a sale 2 By the common law a growing crop could be levied on and sold 1 Salk Rep 361 1 Bos  P Rep 307 6 Easts Rep 604 note 1 2 Johns Rep 418 422 7 Mass Rep 34 and our statue Aik Dig  41 p 167 which forbids the levy of an 742 execution on a growing crop is to receive a strict construction It merely inhibits the levy but the lien attaches and a levy and sale may be made after the crop matures and is gathered 3 The contract does not purport to convey the growing crop but is a mere executory agreement requiring some act to be done by Harrison in order to invest the claimants with the right of property Chit on Con 112 207 3 Johns Rep 338 424 5 Wend Rep 26 13 Johns Rep 235 8 Dowl Rep 693 and until this act was done the crop no matter by who gathered because liable to be seized for Harrisons debts A court of chancery would not compel a specific performance of the contract at the claimants instance 4 The charge of the court is also objectionable in deciding disputed facts W M MURPHY with whom was W G JONES for the defendantcited the act of 1821 Aik Dig 167 which declares it to be lawful to levy an execution on a planted crop until it is gathered and contended that no lien attached in favor of the plaintiff This being the case the defendant in execution was not restrained from making the contract which he did with the claimants 2 The lien of an execution is destroyed by an injunction because it takes away the right to levy it In short whenever the right to levy an execution is but temporarily suspended or withdrawn the lien is during that time lost Whipple v Foot 2 Johns Rep 216 3 Wash C C Rep 66 4 How Rep 130 It is admitted that the contract between the defendant in execution and the claimants was in good faith if so the severance and removal of the cotton gave the latter a good title against all creditors of the former Opinion  COLLIER C J  There can be no doubt that a growing crop has such an existence as to be the subject matter of a sale mortgage or other contract which possess an interest to vest in possession either immediately or at some future time This proposition has frequently been assumed as unquestionable the point of inquiry generally being whether under a statute of frauds such as the 29 Chas 2 it is a mere chattel and transferrable by parol without writing Chitty on Con 2412 332 Whipple v Foot 2 Johns Rep 422 Stewart v Doughty 9 Johns Rep 112 743 Austin v Sawyer 9 Cow Rep 39 See also Ravesies v Lee  Alston at last term The contract set out in the bill of exceptions we are inclined to think evidences rather a mortgage than an absolute sale It recites that the claimants are involved as indorsers of a mercantile firm of which the defendant was a partner that an execution for upwards of fourteen thousand dollars against their estate is in the sheriffs hands and that a conveyance is made of the crop of cotton corn and oats which the grantor agrees to give up at any time to the use of the claimants so as to prevent injury to them as indorsers The defendant in execution might at any time have divested the interest which the contract vested in the claimants by discharging their liability as his indorsers or a judgment creditor might have satisfied the lien and when the crop was gathered have levied on and sold it under a fieri facias We will then consider the writing under which the claimants assert a right as a mortgage with a power to take possession any time during the year unless they should be relieved from their engagements as indorsers It is not pretended that their liability has been satisfied and it is admitted that the parties have acted with good faith so that it is a dry question of law whether the right of the plaintiff or the claimants shall prevail Assuming for the present that the execution of the plaintiffs did not operate a lien upon the planted crop previous to the contract of May 1840 we will inquire whether the defendant in execution had such an interest as could be levied on and sold The claimants had previous to the levy of the execution taken possession of the crop prepared the cotton for market and removed it to a warehouse This possession it is insisted was a trespass because it was acquired in the absence of the defendant in execution and without his consent then given Conceding the truth of the facts stated in the bill of exceptions and we think it will not follow that the possession of the claimants is a nullity and that the case must be considered as if they had never interfered with the crop The contract contains an express undertaking to give up the crop at any time the claimants might require it for their indemnity and if they took possession of it in the absence of the grantor though without his consent if he subsequently acquiesced in it the inference would be if necessary that their acts were approved by him Taking this to be clear 744 law and it will be seen that the defendant in execution at the time of the levy had nothing more than a mere equitable right to redeem the cotton by paying the debts indorsed by the claimants He had no possession coupled with this equity but only a naked equity which it has been held cannot be reached by an ordinary execution Perkins and Elliott v Mayfield 5 Porters Rep 182 3 This brings us back to the question whether the execution of the plaintiff was a lien on the growing crop so as to defeat the mortgage to the claimants It has been frequently mooted whether at common law corn c before it is gathered can be seized under a fieri facias Mr Dane in remarking upon this point says The American editor of Bacons Abridgment says Wheat growing in the ground is a chattel and subject to be taken in execution and the sheriff may suffer it to grow till harvest and then cut and sell it or may perhaps sell it growing and the purchaser will then be entitled to enter for the purpose of cutting and carrying it away He cites Whipple v Foot ut supra also Pooles case Salk 368 1 Bos  P 397 6 East 604 n But Whipple v Foot seems to be the only case that supports his position that unripe wheat or corn may be taken in execution and the same editor states that nothing can be taken in execution which cannot be sold This position says the learned commentator is no doubt law But it is unnecessary to consider how this matter stands at common law The first section of the act of 1821 To prevent sheriffs and other officers from levying executions in certain cases enacts that It shall not be lawful for any sheriff or other officer to levy a writ of fieri facias or other execution on the planted crop of a debtor or person against whom an execution may issue until the crop is gathered Aik Dig 167 Now here is an express inhibition to levy an execution on a crop while it remains on or in the ground and until it is severed from the soil to which it owes its growth In respect to property thus situated will the lien of an execution attach eo instanti upon its being placed in the hands of an officer If so the act cited will only have the effect of keeping the right to levy it in abeyance until the crop is gathered The lien of an execution does not only operate so as to prevent the debtor from disposing of the property on which it attaches but gives to the creditor the right to have it sold to satisfy his 745 judgment The lien and the right to levy are intimately connected and if the latter be taken away or suspended the effect at common law is the destruction of the former This principle is fully established by Mansony and Hurtell v The President c of the Bank of the United States and its assignees and the citations contained in the opinion of the court in that case as also in my opinion in Wood v Gary et al both decided at the last term That it was competent for the legislature to have made it unlawful to levy an execution on particular property until its condition was changed and still to give it a continuing lien cannot be doubted but there is nothing in the act in question to indicate that such is its intention If the object was merely to suspend the sale until the crop was gathered it would have been very easy to have said so in explicit terms but declaring as the statute does in totidem verbis that the execution shall not be levied the legislature must be supposed to have meant what they have expressed The act was induced by the doubts which existed as to what was the common law and was intended to remove those doubts by declaring what should be the law in future It does not create a lien or authorize a levy in a case in which the law as it then existed was silent The idea that the lien attached upon the planted crop as soon as the execution was delivered to the sheriff though the right to levy it was postponed until a severance took place is attempted to be deduced from the last words of the section cited viz until the crop is gathered These words cannot upon any just principles of construction be regarded so potent as to give to an execution a retrospective effect They do not refer to the lien if they did they would postpone it until the crop was gathered but it is the levy they relate to and postpone until that event takes place 4 The right to levy an execution on a planted crop then being expressly taken away by the statute the lien which is connected with and consequent upon that right never attaches until severance This being the case the right of the defendant in execution to make the contract which he did is unquestionable and the title of the claimants coupled as it was with the possession was paramount to any lien which the execution could exert The circuit judge may have mistaken the law in supposing that the contract was a sale but if he did an error in that respect was very immaterial for whether a sale or mortgage as we have 746 seen under the facts of the case the defendant in execution has no interest that could be seised and sold under execution There is no assumption of any material fact in the charge but the possession of the claimant the time when acquired the gathering of the crop c are all referred to the determination of the jury who are instructed if they find them according to the evidence adduced that no lien ever attached in favor of the plaintiff The bona fides of the contract was conceded so that no charge was necessary on that point and it could not with propriety enter into the inquiry of the jury It results from what has been said that the judgment of the circuit court is affirmed  DISSENTING OPINION  ORMOND J 4 The statute which presents the question before the court is that it shall not be lawful for any sheriff or other officer to levy a writ of fieei facias or other execution on the planted crop of a debtor or person against whom an execution may issue until the crop is gathered Clays Dig 210  46 I shall not enter upon the enquiry whether at common law an execution could be levied upon a growing crop though I apprehend it would not be difficult to maintain the affirmative of the proposition It is sufficient for my purpose that the statute supposes such to have been the law as it doubtless was the practice This act must be considered in connection with the other acts upon the same subject The policy of the State as indicated by these statutes is undeniably that all the property of a debtor real and personal to which he has a legal title shall be subject to sale by execution and it appears to me that it would be difficult to assign a reason for the exemption of this species of property from the claims of judgment creditors and for giving to the defendant in execution the right to dispose of it It appears to me with all deference that the argument that because the sheriff was prohibited from levying on a planted crop that therefore the execution had lost its lien and the debtor had the right to sell it is a non sequitur The mischief which the statute designed to remedy was the sacrifice which would be necessarily made by the sale of an immature crop the statute enables the debtor to retain it until it matures and by severing it from the soil to put it 747 in a condition to bring its valuethe lien in the mean time continuing in the plaintiff in execution 5 If further confirmation of the correctness of this view were necessary it will be found I think in the language employed by the legislature The sheriff is forbidden to levy on a planted crop until the crop is gathered Now if the view taken by the majority of the court is correct the right secured to the plaintiff in execution of levying on the crop after it is gathered may be frustrated as it was in this case by a sale by the defendant in execution whilst the crop is in an immature state The construction which has been put upon the statute involves the singular anomaly that the legislature for the protection of the debtor has forbidden the plaintiff in execution to sell the property of his debtor because it is not in a condition to bring its value and yet permits the debtor voluntarily by a sale to submit to the same sacrifice for his own benefit It is in effect a gift to the defendant in execution of the growing crop provided he does not gather it himself but disposes of it in its then condition This I feel a thorough conviction was not the intention of the legislature but that it was to secure him from loss by prohibiting a levy and sale of the crop until it was gathered when the temporary suspension of the right to sell ceased All Citations 5 Ala 740 1843 WL 284 End of Document  2019 Thomson Reuters No claim to original US Government Works Citing References 9 Treatment Title Date Type Depth Headnotes Cited by 1  Booker v Joness Admx 55 Ala 266 271  Ala Trover for Conversion of Cotton with Counts in Case APPEAL from the Circuit Court of Hale Tried before the Hon M J SAFFOLD Dec Term 1876 Case  Cited by 2  Lehman Durr  Co v Marshall 47 Ala 362 376  Ala TROVER FOR CONVERSION OF COTTON APPEAL from the City Court of Montgomery Tried before Hon JOHN D CUNNINGHAM Jan Term 1872 Case  Cited by 3  Bibb v Janney 45 Ala 329 334  Ala GARNISHMENT WAGES WAIVER OF EXEMPTION APPEAL from City Court of Montgomery Tried before Hon JOHN D CUNNINGHAM Jan Term 1871 Case  Cited by 4  McKenzie v Lampley 31 Ala 526 527  Ala TRIAL OF RIGHT OF PROPERTY IN COTTON APPEAL from the Circuit Court of Barbour Tried before the Hon S D HALE Jan Term 1858 Case  Cited by 5  Evans v Lamar 21 Ala 333 335  Ala ERROR to the Circuit Court of Autauga Tried before the Hon A B MOORE Jun Term 1852 Case  Cited by  6  Dewey v Bowman 8 Cal 145 147  Cal The judgment of the Court below against Jacob S Cohen should be reversed for the following reasons Because the finding of the Court was so far as Cohen was concerned Jul Term 1857 Case  Mentioned by 7  Rees v Coats 65 Ala 256 258  Ala Trover for Conversion of Three Bales of Cotton APPEAL from the Circuit Court of Etowah Tried before the Hon WM L WHITLOCK Nov Term 1880 Case  Mentioned by 8  Edwards v Thompson 4 SW 913 914  Tenn Appeal from circuit court Weakley county May 1887 Case   9  Growing crops as subject to levy and seizure under attachment or execution 103 ALR 464 Generally at common law growing crops raised by annual planting while still attached to the soil are regarded as personal chattels subject to levy and seizure under attachment 1936 ALR   Table of Authorities 3 Treatment Referenced Title Type Depth Quoted Page Number Mentioned 1  Austin v Sawyer 9 Cow 39 NYSup 1828 Parol evidence is not admissible to contradict or substantially vary a written contract And where A quitclaimed land to W on which a crop of wheat was growing reserving the Case 2 Cited  2  Perkins v Mayfield 5 Port 182 Ala 1837 On writ of error to the Circuit Court of Tuskaloosa Case 2 Mentioned 3  Stewart v Doughty 9 Johns 108 NYSup 1812 A let to B a farm for six years and A agreed to render yield and pay to A the one half of all the wheat rye corn and other grain raised on the farm in each year in the Case 2 Filings There are no Filings for this citation Negative Treatment There are no Negative Treatment results for this citation History There are no History results for this citation \n"
          ],
          "name": "stdout"
        }
      ]
    },
    {
      "cell_type": "code",
      "metadata": {
        "colab": {
          "base_uri": "https://localhost:8080/"
        },
        "id": "T6C-e8qHY0qI",
        "outputId": "8465992c-f238-4bcc-dab3-1b67275378ab"
      },
      "source": [
        "import nltk\r\n",
        "nltk.download()"
      ],
      "execution_count": null,
      "outputs": [
        {
          "output_type": "stream",
          "text": [
            "NLTK Downloader\n",
            "---------------------------------------------------------------------------\n",
            "    d) Download   l) List    u) Update   c) Config   h) Help   q) Quit\n",
            "---------------------------------------------------------------------------\n",
            "Downloader> all\n",
            "Command 'all' unrecognized\n",
            "\n",
            "---------------------------------------------------------------------------\n",
            "    d) Download   l) List    u) Update   c) Config   h) Help   q) Quit\n",
            "---------------------------------------------------------------------------\n",
            "Downloader> d\n",
            "\n",
            "Download which package (l=list; x=cancel)?\n",
            "  Identifier> all\n"
          ],
          "name": "stdout"
        },
        {
          "output_type": "stream",
          "text": [
            "    Downloading collection 'all'\n",
            "       | \n",
            "       | Downloading package abc to /root/nltk_data...\n",
            "       |   Unzipping corpora/abc.zip.\n",
            "       | Downloading package alpino to /root/nltk_data...\n",
            "       |   Unzipping corpora/alpino.zip.\n",
            "       | Downloading package biocreative_ppi to /root/nltk_data...\n",
            "       |   Unzipping corpora/biocreative_ppi.zip.\n",
            "       | Downloading package brown to /root/nltk_data...\n",
            "       |   Unzipping corpora/brown.zip.\n",
            "       | Downloading package brown_tei to /root/nltk_data...\n",
            "       |   Unzipping corpora/brown_tei.zip.\n",
            "       | Downloading package cess_cat to /root/nltk_data...\n",
            "       |   Unzipping corpora/cess_cat.zip.\n",
            "       | Downloading package cess_esp to /root/nltk_data...\n",
            "       |   Unzipping corpora/cess_esp.zip.\n",
            "       | Downloading package chat80 to /root/nltk_data...\n",
            "       |   Unzipping corpora/chat80.zip.\n",
            "       | Downloading package city_database to /root/nltk_data...\n",
            "       |   Unzipping corpora/city_database.zip.\n",
            "       | Downloading package cmudict to /root/nltk_data...\n",
            "       |   Unzipping corpora/cmudict.zip.\n",
            "       | Downloading package comparative_sentences to\n",
            "       |     /root/nltk_data...\n",
            "       |   Unzipping corpora/comparative_sentences.zip.\n",
            "       | Downloading package comtrans to /root/nltk_data...\n",
            "       | Downloading package conll2000 to /root/nltk_data...\n",
            "       |   Unzipping corpora/conll2000.zip.\n",
            "       | Downloading package conll2002 to /root/nltk_data...\n",
            "       |   Unzipping corpora/conll2002.zip.\n",
            "       | Downloading package conll2007 to /root/nltk_data...\n",
            "       | Downloading package crubadan to /root/nltk_data...\n",
            "       |   Unzipping corpora/crubadan.zip.\n",
            "       | Downloading package dependency_treebank to /root/nltk_data...\n",
            "       |   Unzipping corpora/dependency_treebank.zip.\n",
            "       | Downloading package dolch to /root/nltk_data...\n",
            "       |   Unzipping corpora/dolch.zip.\n",
            "       | Downloading package europarl_raw to /root/nltk_data...\n",
            "       |   Unzipping corpora/europarl_raw.zip.\n",
            "       | Downloading package floresta to /root/nltk_data...\n",
            "       |   Unzipping corpora/floresta.zip.\n",
            "       | Downloading package framenet_v15 to /root/nltk_data...\n",
            "       |   Unzipping corpora/framenet_v15.zip.\n",
            "       | Downloading package framenet_v17 to /root/nltk_data...\n",
            "       |   Unzipping corpora/framenet_v17.zip.\n",
            "       | Downloading package gazetteers to /root/nltk_data...\n",
            "       |   Unzipping corpora/gazetteers.zip.\n",
            "       | Downloading package genesis to /root/nltk_data...\n",
            "       |   Unzipping corpora/genesis.zip.\n",
            "       | Downloading package gutenberg to /root/nltk_data...\n",
            "       |   Unzipping corpora/gutenberg.zip.\n",
            "       | Downloading package ieer to /root/nltk_data...\n",
            "       |   Unzipping corpora/ieer.zip.\n",
            "       | Downloading package inaugural to /root/nltk_data...\n",
            "       |   Unzipping corpora/inaugural.zip.\n",
            "       | Downloading package indian to /root/nltk_data...\n",
            "       |   Unzipping corpora/indian.zip.\n",
            "       | Downloading package jeita to /root/nltk_data...\n",
            "       | Downloading package kimmo to /root/nltk_data...\n",
            "       |   Unzipping corpora/kimmo.zip.\n",
            "       | Downloading package knbc to /root/nltk_data...\n",
            "       | Downloading package lin_thesaurus to /root/nltk_data...\n",
            "       |   Unzipping corpora/lin_thesaurus.zip.\n",
            "       | Downloading package mac_morpho to /root/nltk_data...\n",
            "       |   Unzipping corpora/mac_morpho.zip.\n",
            "       | Downloading package machado to /root/nltk_data...\n",
            "       | Downloading package masc_tagged to /root/nltk_data...\n",
            "       | Downloading package moses_sample to /root/nltk_data...\n",
            "       |   Unzipping models/moses_sample.zip.\n",
            "       | Downloading package movie_reviews to /root/nltk_data...\n",
            "       |   Unzipping corpora/movie_reviews.zip.\n",
            "       | Downloading package names to /root/nltk_data...\n",
            "       |   Unzipping corpora/names.zip.\n",
            "       | Downloading package nombank.1.0 to /root/nltk_data...\n",
            "       | Downloading package nps_chat to /root/nltk_data...\n",
            "       |   Unzipping corpora/nps_chat.zip.\n",
            "       | Downloading package omw to /root/nltk_data...\n",
            "       |   Unzipping corpora/omw.zip.\n",
            "       | Downloading package opinion_lexicon to /root/nltk_data...\n",
            "       |   Unzipping corpora/opinion_lexicon.zip.\n",
            "       | Downloading package paradigms to /root/nltk_data...\n",
            "       |   Unzipping corpora/paradigms.zip.\n",
            "       | Downloading package pil to /root/nltk_data...\n",
            "       |   Unzipping corpora/pil.zip.\n",
            "       | Downloading package pl196x to /root/nltk_data...\n",
            "       |   Unzipping corpora/pl196x.zip.\n",
            "       | Downloading package ppattach to /root/nltk_data...\n",
            "       |   Unzipping corpora/ppattach.zip.\n",
            "       | Downloading package problem_reports to /root/nltk_data...\n",
            "       |   Unzipping corpora/problem_reports.zip.\n",
            "       | Downloading package propbank to /root/nltk_data...\n",
            "       | Downloading package ptb to /root/nltk_data...\n",
            "       |   Unzipping corpora/ptb.zip.\n",
            "       | Downloading package product_reviews_1 to /root/nltk_data...\n",
            "       |   Unzipping corpora/product_reviews_1.zip.\n",
            "       | Downloading package product_reviews_2 to /root/nltk_data...\n",
            "       |   Unzipping corpora/product_reviews_2.zip.\n",
            "       | Downloading package pros_cons to /root/nltk_data...\n",
            "       |   Unzipping corpora/pros_cons.zip.\n",
            "       | Downloading package qc to /root/nltk_data...\n",
            "       |   Unzipping corpora/qc.zip.\n",
            "       | Downloading package reuters to /root/nltk_data...\n",
            "       | Downloading package rte to /root/nltk_data...\n",
            "       |   Unzipping corpora/rte.zip.\n",
            "       | Downloading package semcor to /root/nltk_data...\n",
            "       | Downloading package senseval to /root/nltk_data...\n",
            "       |   Unzipping corpora/senseval.zip.\n",
            "       | Downloading package sentiwordnet to /root/nltk_data...\n",
            "       |   Unzipping corpora/sentiwordnet.zip.\n",
            "       | Downloading package sentence_polarity to /root/nltk_data...\n",
            "       |   Unzipping corpora/sentence_polarity.zip.\n",
            "       | Downloading package shakespeare to /root/nltk_data...\n",
            "       |   Unzipping corpora/shakespeare.zip.\n",
            "       | Downloading package sinica_treebank to /root/nltk_data...\n",
            "       |   Unzipping corpora/sinica_treebank.zip.\n",
            "       | Downloading package smultron to /root/nltk_data...\n",
            "       |   Unzipping corpora/smultron.zip.\n",
            "       | Downloading package state_union to /root/nltk_data...\n",
            "       |   Unzipping corpora/state_union.zip.\n",
            "       | Downloading package stopwords to /root/nltk_data...\n",
            "       |   Unzipping corpora/stopwords.zip.\n",
            "       | Downloading package subjectivity to /root/nltk_data...\n",
            "       |   Unzipping corpora/subjectivity.zip.\n",
            "       | Downloading package swadesh to /root/nltk_data...\n",
            "       |   Unzipping corpora/swadesh.zip.\n",
            "       | Downloading package switchboard to /root/nltk_data...\n",
            "       |   Unzipping corpora/switchboard.zip.\n",
            "       | Downloading package timit to /root/nltk_data...\n",
            "       |   Unzipping corpora/timit.zip.\n",
            "       | Downloading package toolbox to /root/nltk_data...\n",
            "       |   Unzipping corpora/toolbox.zip.\n",
            "       | Downloading package treebank to /root/nltk_data...\n",
            "       |   Unzipping corpora/treebank.zip.\n",
            "       | Downloading package twitter_samples to /root/nltk_data...\n",
            "       |   Unzipping corpora/twitter_samples.zip.\n",
            "       | Downloading package udhr to /root/nltk_data...\n",
            "       |   Unzipping corpora/udhr.zip.\n",
            "       | Downloading package udhr2 to /root/nltk_data...\n",
            "       |   Unzipping corpora/udhr2.zip.\n",
            "       | Downloading package unicode_samples to /root/nltk_data...\n",
            "       |   Unzipping corpora/unicode_samples.zip.\n",
            "       | Downloading package universal_treebanks_v20 to\n",
            "       |     /root/nltk_data...\n",
            "       | Downloading package verbnet to /root/nltk_data...\n",
            "       |   Unzipping corpora/verbnet.zip.\n",
            "       | Downloading package verbnet3 to /root/nltk_data...\n",
            "       |   Unzipping corpora/verbnet3.zip.\n",
            "       | Downloading package webtext to /root/nltk_data...\n",
            "       |   Unzipping corpora/webtext.zip.\n",
            "       | Downloading package wordnet to /root/nltk_data...\n",
            "       |   Unzipping corpora/wordnet.zip.\n",
            "       | Downloading package wordnet_ic to /root/nltk_data...\n",
            "       |   Unzipping corpora/wordnet_ic.zip.\n",
            "       | Downloading package words to /root/nltk_data...\n",
            "       |   Unzipping corpora/words.zip.\n",
            "       | Downloading package ycoe to /root/nltk_data...\n",
            "       |   Unzipping corpora/ycoe.zip.\n",
            "       | Downloading package rslp to /root/nltk_data...\n",
            "       |   Unzipping stemmers/rslp.zip.\n",
            "       | Downloading package maxent_treebank_pos_tagger to\n",
            "       |     /root/nltk_data...\n",
            "       |   Unzipping taggers/maxent_treebank_pos_tagger.zip.\n",
            "       | Downloading package universal_tagset to /root/nltk_data...\n",
            "       |   Unzipping taggers/universal_tagset.zip.\n",
            "       | Downloading package maxent_ne_chunker to /root/nltk_data...\n",
            "       |   Unzipping chunkers/maxent_ne_chunker.zip.\n",
            "       | Downloading package punkt to /root/nltk_data...\n",
            "       |   Unzipping tokenizers/punkt.zip.\n",
            "       | Downloading package book_grammars to /root/nltk_data...\n",
            "       |   Unzipping grammars/book_grammars.zip.\n",
            "       | Downloading package sample_grammars to /root/nltk_data...\n",
            "       |   Unzipping grammars/sample_grammars.zip.\n",
            "       | Downloading package spanish_grammars to /root/nltk_data...\n",
            "       |   Unzipping grammars/spanish_grammars.zip.\n",
            "       | Downloading package basque_grammars to /root/nltk_data...\n",
            "       |   Unzipping grammars/basque_grammars.zip.\n",
            "       | Downloading package large_grammars to /root/nltk_data...\n",
            "       |   Unzipping grammars/large_grammars.zip.\n",
            "       | Downloading package tagsets to /root/nltk_data...\n",
            "       |   Unzipping help/tagsets.zip.\n",
            "       | Downloading package snowball_data to /root/nltk_data...\n",
            "       | Downloading package bllip_wsj_no_aux to /root/nltk_data...\n",
            "       |   Unzipping models/bllip_wsj_no_aux.zip.\n",
            "       | Downloading package word2vec_sample to /root/nltk_data...\n",
            "       |   Unzipping models/word2vec_sample.zip.\n",
            "       | Downloading package panlex_swadesh to /root/nltk_data...\n",
            "       | Downloading package mte_teip5 to /root/nltk_data...\n",
            "       |   Unzipping corpora/mte_teip5.zip.\n",
            "       | Downloading package averaged_perceptron_tagger to\n",
            "       |     /root/nltk_data...\n",
            "       |   Unzipping taggers/averaged_perceptron_tagger.zip.\n",
            "       | Downloading package averaged_perceptron_tagger_ru to\n",
            "       |     /root/nltk_data...\n",
            "       |   Unzipping taggers/averaged_perceptron_tagger_ru.zip.\n",
            "       | Downloading package perluniprops to /root/nltk_data...\n",
            "       |   Unzipping misc/perluniprops.zip.\n",
            "       | Downloading package nonbreaking_prefixes to\n",
            "       |     /root/nltk_data...\n",
            "       |   Unzipping corpora/nonbreaking_prefixes.zip.\n",
            "       | Downloading package vader_lexicon to /root/nltk_data...\n",
            "       | Downloading package porter_test to /root/nltk_data...\n",
            "       |   Unzipping stemmers/porter_test.zip.\n",
            "       | Downloading package wmt15_eval to /root/nltk_data...\n",
            "       |   Unzipping models/wmt15_eval.zip.\n",
            "       | Downloading package mwa_ppdb to /root/nltk_data...\n",
            "       |   Unzipping misc/mwa_ppdb.zip.\n",
            "       | \n",
            "     Done downloading collection all\n"
          ],
          "name": "stderr"
        },
        {
          "output_type": "stream",
          "text": [
            "\n",
            "---------------------------------------------------------------------------\n",
            "    d) Download   l) List    u) Update   c) Config   h) Help   q) Quit\n",
            "---------------------------------------------------------------------------\n",
            "Downloader> q\n"
          ],
          "name": "stdout"
        },
        {
          "output_type": "execute_result",
          "data": {
            "text/plain": [
              "True"
            ]
          },
          "metadata": {
            "tags": []
          },
          "execution_count": 9
        }
      ]
    },
    {
      "cell_type": "markdown",
      "metadata": {
        "id": "22ijVQ4CvkjW"
      },
      "source": [
        "**Acts**"
      ]
    },
    {
      "cell_type": "code",
      "metadata": {
        "colab": {
          "base_uri": "https://localhost:8080/"
        },
        "id": "zgpAwJBtYoG1",
        "outputId": "9ec92608-cff6-4059-ec4f-ef31ce72747f"
      },
      "source": [
        "import lexnlp.extract.en.acts\r\n",
        "print(lexnlp.extract.en.acts.get_act_list(Text))"
      ],
      "execution_count": null,
      "outputs": [
        {
          "output_type": "stream",
          "text": [
            "[]\n"
          ],
          "name": "stdout"
        }
      ]
    },
    {
      "cell_type": "markdown",
      "metadata": {
        "id": "90N4-_vyvv7v"
      },
      "source": [
        "**Amounts**"
      ]
    },
    {
      "cell_type": "code",
      "metadata": {
        "colab": {
          "base_uri": "https://localhost:8080/"
        },
        "id": "RGJ_jqEUZTi7",
        "outputId": "e606cb4a-c6e3-451e-df5d-18176ef495a3"
      },
      "source": [
        "import lexnlp.extract.en.amounts\r\n",
        "print(list(lexnlp.extract.en.amounts.get_amounts(Text)))"
      ],
      "execution_count": null,
      "outputs": [
        {
          "output_type": "stream",
          "text": [
            "[Decimal('5.0'), Decimal('740.0'), Decimal('1843.0'), Decimal('2.0'), Decimal('1.0'), Decimal('4.0'), Decimal('2.0'), Decimal('5.0'), Decimal('1.0'), Decimal('1840.0'), Decimal('80100.0'), Decimal('30.0'), Decimal('1839.0'), Decimal('741.0'), Decimal('1840.0'), Decimal('14000.0'), Decimal('120.0'), Decimal('1.0'), Decimal('1840.0'), Decimal('3.0'), Decimal('4.0'), Decimal('1.0'), Decimal('1840.0'), Decimal('2.0'), Decimal('1.0'), Decimal('361.0'), Decimal('1.0'), Decimal('307.0'), Decimal('6.0'), Decimal('604.0'), Decimal('1.0'), Decimal('2.0'), Decimal('418.0'), Decimal('422.0'), Decimal('7.0'), Decimal('34.0'), Decimal('41.0'), Decimal('167.0'), Decimal('742.0'), Decimal('3.0'), Decimal('112.0'), Decimal('207.0'), Decimal('3.0'), Decimal('338.0'), Decimal('424.0'), Decimal('5.0'), Decimal('26.0'), Decimal('13.0'), Decimal('235.0'), Decimal('8.0'), Decimal('693.0'), Decimal('4.0'), Decimal('1821.0'), Decimal('167.0'), Decimal('2.0'), Decimal('2.0'), Decimal('216.0'), Decimal('3.0'), Decimal('66.0'), Decimal('4.0'), Decimal('130.0'), Decimal('29.0'), Decimal('2.0'), Decimal('2412.0'), Decimal('332.0'), Decimal('2.0'), Decimal('422.0'), Decimal('9.0'), Decimal('112.0'), Decimal('743.0'), Decimal('9.0'), Decimal('39.0'), Decimal('14000.0'), Decimal('1840.0'), Decimal('744.0'), Decimal('5.0'), Decimal('182.0'), Decimal('3.0'), Decimal('368.0'), Decimal('1.0'), Decimal('397.0'), Decimal('6.0'), Decimal('604.0'), Decimal('1.0'), Decimal('1821.0'), Decimal('167.0'), Decimal('745.0'), Decimal('4.0'), Decimal('746.0'), Decimal('4.0'), Decimal('210.0'), Decimal('46.0'), Decimal('747.0'), Decimal('5.0'), Decimal('5.0'), Decimal('740.0'), Decimal('1843.0'), Decimal('284.0'), Decimal('2019.0'), Decimal('9.0'), Decimal('1.0'), Decimal('55.0'), Decimal('266.0'), Decimal('271.0'), Decimal('1876.0'), Decimal('2.0'), Decimal('47.0'), Decimal('362.0'), Decimal('376.0'), Decimal('1872.0'), Decimal('3.0'), Decimal('45.0'), Decimal('329.0'), Decimal('334.0'), Decimal('1871.0'), Decimal('4.0'), Decimal('31.0'), Decimal('526.0'), Decimal('527.0'), Decimal('1858.0'), Decimal('5.0'), Decimal('21.0'), Decimal('333.0'), Decimal('335.0'), Decimal('1852.0'), Decimal('6.0'), Decimal('8.0'), Decimal('145.0'), Decimal('147.0'), Decimal('1857.0'), Decimal('7.0'), Decimal('65.0'), Decimal('256.0'), Decimal('258.0'), Decimal('3.0'), Decimal('1880.0'), Decimal('8.0'), Decimal('4.0'), Decimal('913.0'), Decimal('914.0'), Decimal('1887.0'), Decimal('9.0'), Decimal('103.0'), Decimal('464.0'), Decimal('1936.0'), Decimal('3.0'), Decimal('1.0'), Decimal('9.0'), Decimal('39.0'), Decimal('1828.0'), Decimal('2.0'), Decimal('2.0'), Decimal('5.0'), Decimal('182.0'), Decimal('1837.0'), Decimal('2.0'), Decimal('3.0'), Decimal('9.0'), Decimal('108.0'), Decimal('1812.0'), Decimal('6.0'), Decimal('1.0'), Decimal('2.0')]\n"
          ],
          "name": "stdout"
        }
      ]
    },
    {
      "cell_type": "markdown",
      "metadata": {
        "id": "YeVZR6KWv8fl"
      },
      "source": [
        "**Citations**"
      ]
    },
    {
      "cell_type": "code",
      "metadata": {
        "colab": {
          "base_uri": "https://localhost:8080/"
        },
        "id": "DEJKaGZyZZl1",
        "outputId": "b11fca7d-da4a-46fc-8e90-e15a5d9a2bb0"
      },
      "source": [
        "import lexnlp.extract.en.citations\r\n",
        "print(list(lexnlp.extract.en.citations.get_citations(Text)))"
      ],
      "execution_count": null,
      "outputs": [
        {
          "output_type": "stream",
          "text": [
            "[(1843, 'WL', 'West Law Citation', 284, None, None, None)]\n"
          ],
          "name": "stdout"
        }
      ]
    },
    {
      "cell_type": "markdown",
      "metadata": {
        "id": "EIf5cNjjwOp5"
      },
      "source": [
        "**Companies**"
      ]
    },
    {
      "cell_type": "code",
      "metadata": {
        "colab": {
          "base_uri": "https://localhost:8080/"
        },
        "id": "8EY2XpqzZf6V",
        "outputId": "05fbb526-244b-43e7-abfc-367144284dfe"
      },
      "source": [
        "import lexnlp.extract.en.entities.nltk_re\r\n",
        "print(list(lexnlp.extract.en.entities.nltk_re.get_companies(Text)))"
      ],
      "execution_count": null,
      "outputs": [
        {
          "output_type": "stream",
          "text": [
            "[Lehman Durr Co, (17335, 17351)]\n"
          ],
          "name": "stdout"
        }
      ]
    },
    {
      "cell_type": "markdown",
      "metadata": {
        "id": "9HWRGSdhweD9"
      },
      "source": [
        "**Conditions**"
      ]
    },
    {
      "cell_type": "code",
      "metadata": {
        "colab": {
          "base_uri": "https://localhost:8080/"
        },
        "id": "vZQu8gzhaIBk",
        "outputId": "a743f6d0-b001-43a4-fdf2-3f36132eed4f"
      },
      "source": [
        "import lexnlp.extract.en.conditions\r\n",
        "print(list(lexnlp.extract.en.conditions.get_conditions(Text)))"
      ],
      "execution_count": null,
      "outputs": [
        {
          "output_type": "stream",
          "text": [
            "[('until', '5 Ala 740 Supreme Court of Alabama ADAMS v TANNER AND HORTON June Term 1843 Synopsis WRIT of Error to the Circuit Court of Sumter \\xa0   West Headnotes 2   1 Chattel Mortgages Crops A growing crop has such an existence as to be the subjectmatter of a mortgage or other contract which passes an interest to vest in possession either immediately or at a future time 4 Cases that cite this headnote  2 Creditors Remedies Lien and Priority Under St1821 prohibiting a levy on a crop', ''), ('until', 'it has been gathered no lien attaches in favor of a fi fa on a growing crop nor does such lien attach', ''), ('if', 'after the crop has been gathered 5 Cases that cite this headnote  1 This was a trial of the right of property under the statute In November 1840 an execution issued from the circuit court of Sumter at the suit of the plaintiff in error requiring the sheriff of that county to make of the goods c of Allen Harrison and others the sum of thirtyseven hundred and seventyseven 80100 dollars besides costs This execution was levied on thirty bales of cotton as the property of Allen Harrison which was claimed and a bond given to try the right An issue was made up to try the question of the liability of the cotton to the plaintiffs execution and submitted to a jury On the trial a bill of exceptions was sealed at the instance of the plaintiff The plaintiff proved that he recovered his judgment in October 1839 that an execution 741 was issued thereon on the 7th Nov thereafter and that alias and pluries fieri facias issued regularly up to the time levy was made that the cotton levied on was growed on the plantation of Harrison and cultivated by the hands in his service It was proved by the claimants by the production of a written contract that Harrison on the twentysecond of May 1840 in consideration that the claimants were involved as indorsers for Burton  Harrison of Sumter county and were then exposed to an execution amounting to upwards of fourteen thousand dollars bargained and sold to the claimants all his growing crop of cotton c consisting of one hundred and twenty acres c Allen Harrison promised and obliged himself to give up his crop to the use of the claimants at any time to save them from suffering as his indorsers', ''), ('where', 'the crop matured and was gathered he undertook to deliver the cotton in Gainesville The claimants came from Tennessee', ''), ('when', 'they resided about the first of September 1840 bringing with them three or four white laborers and took possession of the crop and slaves and with the latter and white laborers gathered the cotton prepared it for market and', ''), ('if', 'levied on it was in a warehouse in Gainesville The plaintiff then proved by Harrison that the claimants took possession of the crop while he was absent and disposed of it without his consent It was admitted that the contract was made in good faith The court charged the jury that the plaintiff had no lien by virtue of his judgment and execution on the growing crop that Harrison had a right to convey it without being in any manner restrained by them that the writing adduced was a sale of the crop but', ''), ('when', 'it was not and the lien of the fieri facias would have attached upon it', ''), ('if', 'gathered yet', ''), ('not subject to', 'the claimants obtained possession on the first of September and controlled the gathering of the crop then no lien attached and it was', ''), ('until', 'the levy Attorneys and Law Firms R H SMITH for the plaintiff in error made the following points1 The crop of Harrison must in May 1840 have been in an immature state and it is insisted was not the subject of a sale 2 By the common law a growing crop could be levied on and sold 1 Salk Rep 361 1 Bos  P Rep 307 6 Easts Rep 604 note 1 2 Johns Rep 418 422 7 Mass Rep 34 and our statue Aik Dig  41 p 167 which forbids the levy of an 742 execution on a growing crop is to receive a strict construction It merely inhibits the levy but the lien attaches and a levy and sale may be made after the crop matures and is gathered 3 The contract does not purport to convey the growing crop but is a mere executory agreement requiring some act to be done by Harrison in order to invest the claimants with the right of property Chit on Con 112 207 3 Johns Rep 338 424 5 Wend Rep 26 13 Johns Rep 235 8 Dowl Rep 693 and', ''), ('until', 'this act was done the crop no matter by who gathered because liable to be seized for Harrisons debts A court of chancery would not compel a specific performance of the contract at the claimants instance 4 The charge of the court is also objectionable in deciding disputed facts W M MURPHY with whom was W G JONES for the defendantcited the act of 1821 Aik Dig 167 which declares it to be lawful to levy an execution on a planted crop', ''), ('if', 'it is gathered and contended that no lien attached in favor of the plaintiff This being the case the defendant in execution was not restrained from making the contract which he did with the claimants 2 The lien of an execution is destroyed by an injunction because it takes away the right to levy it In short whenever the right to levy an execution is but temporarily suspended or withdrawn the lien is during that time lost Whipple v Foot 2 Johns Rep 216 3 Wash C C Rep 66 4 How Rep 130 It is admitted that the contract between the defendant in execution and the claimants was in good faith', ''), ('when', 'so the severance and removal of the cotton gave the latter a good title against all creditors of the former Opinion  COLLIER C J  There can be no doubt that a growing crop has such an existence as to be the subject matter of a sale mortgage or other contract which possess an interest to vest in possession either immediately or at some future time This proposition has frequently been assumed as unquestionable the point of inquiry generally being whether under a statute of frauds such as the 29 Chas 2 it is a mere chattel and transferrable by parol without writing Chitty on Con 2412 332 Whipple v Foot 2 Johns Rep 422 Stewart v Doughty 9 Johns Rep 112 743 Austin v Sawyer 9 Cow Rep 39 See also Ravesies v Lee  Alston at last term The contract set out in the bill of exceptions we are inclined to think evidences rather a mortgage than an absolute sale It recites that the claimants are involved as indorsers of a mercantile firm of which the defendant was a partner that an execution for upwards of fourteen thousand dollars against their estate is in the sheriffs hands and that a conveyance is made of the crop of cotton corn and oats which the grantor agrees to give up at any time to the use of the claimants so as to prevent injury to them as indorsers The defendant in execution might at any time have divested the interest which the contract vested in the claimants by discharging their liability as his indorsers or a judgment creditor might have satisfied the lien and', ''), ('unless', 'the crop was gathered have levied on and sold it under a fieri facias We will then consider the writing under which the claimants assert a right as a mortgage with a power to take possession any time during the year', ''), ('if', 'they should be relieved from their engagements as indorsers It is not pretended that their liability has been satisfied and it is admitted that the parties have acted with good faith so that it is a dry question of law whether the right of the plaintiff or the claimants shall prevail Assuming for the present that the execution of the plaintiffs did not operate a lien upon the planted crop previous to the contract of May 1840 we will inquire whether the defendant in execution had such an interest as could be levied on and sold The claimants had previous to the levy of the execution taken possession of the crop prepared the cotton for market and removed it to a warehouse This possession it is insisted was a trespass because it was acquired in the absence of the defendant in execution and without his consent then given Conceding the truth of the facts stated in the bill of exceptions and we think it will not follow that the possession of the claimants is a nullity and that the case must be considered as', ''), ('if', 'they had never interfered with the crop The contract contains an express undertaking to give up the crop at any time the claimants might require it for their indemnity and', ''), ('if', 'they took possession of it in the absence of the grantor though without his consent', ''), ('if', 'he subsequently acquiesced in it the inference would be', ''), ('subject to', 'necessary that their acts were approved by him Taking this to be clear 744 law and it will be seen that the defendant in execution at the time of the levy had nothing more than a mere equitable right to redeem the cotton by paying the debts indorsed by the claimants He had no possession coupled with this equity but only a naked equity which it has been held cannot be reached by an ordinary execution Perkins and Elliott v Mayfield 5 Porters Rep 182 3 This brings us back to the question whether the execution of the plaintiff was a lien on the growing crop so as to defeat the mortgage to the claimants It has been frequently mooted whether at common law corn c before it is gathered can be seized under a fieri facias Mr Dane in remarking upon this point says The American editor of Bacons Abridgment says Wheat growing in the ground is a chattel and', ''), ('until', 'be taken in execution and the sheriff may suffer it to grow till harvest and then cut and sell it or may perhaps sell it growing and the purchaser will then be entitled to enter for the purpose of cutting and carrying it away He cites Whipple v Foot ut supra also Pooles case Salk 368 1 Bos  P 397 6 East 604 n But Whipple v Foot seems to be the only case that supports his position that unripe wheat or corn may be taken in execution and the same editor states that nothing can be taken in execution which cannot be sold This position says the learned commentator is no doubt law But it is unnecessary to consider how this matter stands at common law The first section of the act of 1821 To prevent sheriffs and other officers from levying executions in certain cases enacts that It shall not be lawful for any sheriff or other officer to levy a writ of fieri facias or other execution on the planted crop of a debtor or person against whom an execution may issue', ''), ('until', 'the crop is gathered Aik Dig 167 Now here is an express inhibition to levy an execution on a crop while it remains on or in the ground and', ''), ('if', 'it is severed from the soil to which it owes its growth In respect to property thus situated will the lien of an execution attach eo instanti upon its being placed in the hands of an officer', ''), ('until', 'so the act cited will only have the effect of keeping the right to levy it in abeyance', ''), ('if', 'the crop is gathered The lien of an execution does not only operate so as to prevent the debtor from disposing of the property on which it attaches but gives to the creditor the right to have it sold to satisfy his 745 judgment The lien and the right to levy are intimately connected and', ''), ('until', 'the latter be taken away or suspended the effect at common law is the destruction of the former This principle is fully established by Mansony and Hurtell v The President c of the Bank of the United States and its assignees and the citations contained in the opinion of the court in that case as also in my opinion in Wood v Gary et al both decided at the last term That it was competent for the legislature to have made it unlawful to levy an execution on particular property', ''), ('if', 'its condition was changed and still to give it a continuing lien cannot be doubted but there is nothing in the act in question to indicate that such is its intention', ''), ('until', 'the object was merely to suspend the sale', ''), ('as soon as', 'the crop was gathered it would have been very easy to have said so in explicit terms but declaring as the statute does in totidem verbis that the execution shall not be levied the legislature must be supposed to have meant what they have expressed The act was induced by the doubts which existed as to what was the common law and was intended to remove those doubts by declaring what should be the law in future It does not create a lien or authorize a levy in a case in which the law as it then existed was silent The idea that the lien attached upon the planted crop', ''), ('until', 'the execution was delivered to the sheriff though the right to levy it was postponed', ''), ('until', 'a severance took place is attempted to be deduced from the last words of the section cited viz', ''), ('if', 'the crop is gathered These words cannot upon any just principles of construction be regarded so potent as to give to an execution a retrospective effect They do not refer to the lien', ''), ('until', 'they did they would postpone it', ''), ('until', 'the crop was gathered but it is the levy they relate to and postpone', ''), ('until', 'that event takes place 4 The right to levy an execution on a planted crop then being expressly taken away by the statute the lien which is connected with and consequent upon that right never attaches', ''), ('if', 'severance This being the case the right of the defendant in execution to make the contract which he did is unquestionable and the title of the claimants coupled as it was with the possession was paramount to any lien which the execution could exert The circuit judge may have mistaken the law in supposing that the contract was a sale but', ''), ('when', 'he did an error in that respect was very immaterial for whether a sale or mortgage as we have 746 seen under the facts of the case the defendant in execution has no interest that could be seised and sold under execution There is no assumption of any material fact in the charge but the possession of the claimant the time', ''), ('if', 'acquired the gathering of the crop c are all referred to the determination of the jury who are instructed', ''), ('until', 'they find them according to the evidence adduced that no lien ever attached in favor of the plaintiff The bona fides of the contract was conceded so that no charge was necessary on that point and it could not with propriety enter into the inquiry of the jury It results from what has been said that the judgment of the circuit court is affirmed  DISSENTING OPINION  ORMOND J 4 The statute which presents the question before the court is that it shall not be lawful for any sheriff or other officer to levy a writ of fieei facias or other execution on the planted crop of a debtor or person against whom an execution may issue', ''), ('subject to', 'the crop is gathered Clays Dig 210  46 I shall not enter upon the enquiry whether at common law an execution could be levied upon a growing crop though I apprehend it would not be difficult to maintain the affirmative of the proposition It is sufficient for my purpose that the statute supposes such to have been the law as it doubtless was the practice This act must be considered in connection with the other acts upon the same subject The policy of the State as indicated by these statutes is undeniably that all the property of a debtor real and personal to which he has a legal title shall be', ''), ('until', 'sale by execution and it appears to me that it would be difficult to assign a reason for the exemption of this species of property from the claims of judgment creditors and for giving to the defendant in execution the right to dispose of it It appears to me with all deference that the argument that because the sheriff was prohibited from levying on a planted crop that therefore the execution had lost its lien and the debtor had the right to sell it is a non sequitur The mischief which the statute designed to remedy was the sacrifice which would be necessarily made by the sale of an immature crop the statute enables the debtor to retain it', ''), ('if', 'it matures and by severing it from the soil to put it 747 in a condition to bring its valuethe lien in the mean time continuing in the plaintiff in execution 5', ''), ('until', 'further confirmation of the correctness of this view were necessary it will be found I think in the language employed by the legislature The sheriff is forbidden to levy on a planted crop', ''), ('if', 'the crop is gathered Now', ''), ('until', 'the view taken by the majority of the court is correct the right secured to the plaintiff in execution of levying on the crop after it is gathered may be frustrated as it was in this case by a sale by the defendant in execution whilst the crop is in an immature state The construction which has been put upon the statute involves the singular anomaly that the legislature for the protection of the debtor has forbidden the plaintiff in execution to sell the property of his debtor because it is not in a condition to bring its value and yet permits the debtor voluntarily by a sale to submit to the same sacrifice for his own benefit It is in effect a gift to the defendant in execution of the growing crop provided he does not gather it himself but disposes of it in its then condition This I feel a thorough conviction was not the intention of the legislature but that it was to secure him from loss by prohibiting a levy and sale of the crop', ''), ('when', 'it was gathered', ''), ('subject to', 'the temporary suspension of the right to sell ceased All Citations 5 Ala 740 1843 WL 284 End of Document  2019 Thomson Reuters No claim to original US Government Works Citing References 9 Treatment Title Date Type Depth Headnotes Cited by 1  Booker v Joness Admx 55 Ala 266 271  Ala Trover for Conversion of Cotton with Counts in Case APPEAL from the Circuit Court of Hale Tried before the Hon M J SAFFOLD Dec Term 1876 Case  Cited by 2  Lehman Durr  Co v Marshall 47 Ala 362 376  Ala TROVER FOR CONVERSION OF COTTON APPEAL from the City Court of Montgomery Tried before Hon JOHN D CUNNINGHAM Jan Term 1872 Case  Cited by 3  Bibb v Janney 45 Ala 329 334  Ala GARNISHMENT WAGES WAIVER OF EXEMPTION APPEAL from City Court of Montgomery Tried before Hon JOHN D CUNNINGHAM Jan Term 1871 Case  Cited by 4  McKenzie v Lampley 31 Ala 526 527  Ala TRIAL OF RIGHT OF PROPERTY IN COTTON APPEAL from the Circuit Court of Barbour Tried before the Hon S D HALE Jan Term 1858 Case  Cited by 5  Evans v Lamar 21 Ala 333 335  Ala ERROR to the Circuit Court of Autauga Tried before the Hon A B MOORE Jun Term 1852 Case  Cited by  6  Dewey v Bowman 8 Cal 145 147  Cal The judgment of the Court below against Jacob S Cohen should be reversed for the following reasons Because the finding of the Court was so far as Cohen was concerned Jul Term 1857 Case  Mentioned by 7  Rees v Coats 65 Ala 256 258  Ala Trover for Conversion of Three Bales of Cotton APPEAL from the Circuit Court of Etowah Tried before the Hon WM L WHITLOCK Nov Term 1880 Case  Mentioned by 8  Edwards v Thompson 4 SW 913 914  Tenn Appeal from circuit court Weakley county May 1887 Case   9  Growing crops as', ''), ('subject to', 'levy and seizure under attachment or execution 103 ALR 464 Generally at common law growing crops raised by annual planting while still attached to the soil are regarded as personal chattels', ''), ('where', 'levy and seizure under attachment 1936 ALR   Table of Authorities 3 Treatment Referenced Title Type Depth Quoted Page Number Mentioned 1  Austin v Sawyer 9 Cow 39 NYSup 1828 Parol evidence is not admissible to contradict or substantially vary a written contract And', '')]\n"
          ],
          "name": "stdout"
        }
      ]
    },
    {
      "cell_type": "markdown",
      "metadata": {
        "id": "XOLZUVI_wm9G"
      },
      "source": [
        "**Constraints**"
      ]
    },
    {
      "cell_type": "code",
      "metadata": {
        "colab": {
          "base_uri": "https://localhost:8080/"
        },
        "id": "7DfGzRinaLeO",
        "outputId": "3eb4d4f9-8c36-4b05-9fee-ccb22d614f32"
      },
      "source": [
        "import lexnlp.extract.en.constraints\r\n",
        "print(list(lexnlp.extract.en.constraints.get_constraints(Text)))"
      ],
      "execution_count": null,
      "outputs": [
        {
          "output_type": "stream",
          "text": [
            "[('after', '5 ala 740 supreme court of alabama adams v tanner and horton june term 1843 synopsis writ of error to the circuit court of sumter \\xa0   west headnotes 2   1 chattel mortgages crops a growing crop has such an existence as to be the subjectmatter of a mortgage or other contract which passes an interest to vest in possession either immediately or at a future time 4 cases that cite this headnote  2 creditors remedies lien and priority under st1821 prohibiting a levy on a crop until it has been gathered no lien attaches in favor of a fi fa on a growing crop nor does such lien attach until', ''), ('first of', 'the crop has been gathered 5 cases that cite this headnote  1 this was a trial of the right of property under the statute in november 1840 an execution issued from the circuit court of sumter at the suit of the plaintiff in error requiring the sheriff of that county to make of the goods c of allen harrison and others the sum of thirtyseven hundred and seventyseven 80100 dollars besides costs this execution was levied on thirty bales of cotton as the property of allen harrison which was claimed and a bond given to try the right an issue was made up to try the question of the liability of the cotton to the plaintiffs execution and submitted to a jury on the trial a bill of exceptions was sealed at the instance of the plaintiff the plaintiff proved that he recovered his judgment in october 1839 that an execution 741 was issued thereon on the 7th nov thereafter and that alias and pluries fieri facias issued regularly up to the time levy was made that the cotton levied on was growed on the plantation of harrison and cultivated by the hands in his service it was proved by the claimants by the production of a written contract that harrison on the twentysecond of may 1840 in consideration that the claimants were involved as indorsers for burton  harrison of sumter county and were then exposed to an execution amounting to upwards of fourteen thousand dollars bargained and sold to the claimants all his growing crop of cotton c consisting of one hundred and twenty acres c allen harrison promised and obliged himself to give up his crop to the use of the claimants at any time to save them from suffering as his indorsers if the crop matured and was gathered he undertook to deliver the cotton in gainesville the claimants came from tennessee where they resided about the', ''), ('first of', 'september 1840 bringing with them three or four white laborers and took possession of the crop and slaves and with the latter and white laborers gathered the cotton prepared it for market and when levied on it was in a warehouse in gainesville the plaintiff then proved by harrison that the claimants took possession of the crop while he was absent and disposed of it without his consent it was admitted that the contract was made in good faith the court charged the jury that the plaintiff had no lien by virtue of his judgment and execution on the growing crop that harrison had a right to convey it without being in any manner restrained by them that the writing adduced was a sale of the crop but if it was not and the lien of the fieri facias would have attached upon it when gathered yet if the claimants obtained possession on the', ''), ('after', 'september and controlled the gathering of the crop then no lien attached and it was not subject to the levy attorneys and law firms r h smith for the plaintiff in error made the following points1 the crop of harrison must in may 1840 have been in an immature state and it is insisted was not the subject of a sale 2 by the common law a growing crop could be levied on and sold 1 salk rep 361 1 bos  p rep 307 6 easts rep 604 note 1 2 johns rep 418 422 7 mass rep 34 and our statue aik dig  41 p 167 which forbids the levy of an 742 execution on a growing crop is to receive a strict construction it merely inhibits the levy but the lien attaches and a levy and sale may be made', ''), ('more than', 'the crop matures and is gathered 3 the contract does not purport to convey the growing crop but is a mere executory agreement requiring some act to be done by harrison in order to invest the claimants with the right of property chit on con 112 207 3 johns rep 338 424 5 wend rep 26 13 johns rep 235 8 dowl rep 693 and until this act was done the crop no matter by who gathered because liable to be seized for harrisons debts a court of chancery would not compel a specific performance of the contract at the claimants instance 4 the charge of the court is also objectionable in deciding disputed facts w m murphy with whom was w g jones for the defendantcited the act of 1821 aik dig 167 which declares it to be lawful to levy an execution on a planted crop until it is gathered and contended that no lien attached in favor of the plaintiff this being the case the defendant in execution was not restrained from making the contract which he did with the claimants 2 the lien of an execution is destroyed by an injunction because it takes away the right to levy it in short whenever the right to levy an execution is but temporarily suspended or withdrawn the lien is during that time lost whipple v foot 2 johns rep 216 3 wash c c rep 66 4 how rep 130 it is admitted that the contract between the defendant in execution and the claimants was in good faith if so the severance and removal of the cotton gave the latter a good title against all creditors of the former opinion  collier c j  there can be no doubt that a growing crop has such an existence as to be the subject matter of a sale mortgage or other contract which possess an interest to vest in possession either immediately or at some future time this proposition has frequently been assumed as unquestionable the point of inquiry generally being whether under a statute of frauds such as the 29 chas 2 it is a mere chattel and transferrable by parol without writing chitty on con 2412 332 whipple v foot 2 johns rep 422 stewart v doughty 9 johns rep 112 743 austin v sawyer 9 cow rep 39 see also ravesies v lee  alston at last term the contract set out in the bill of exceptions we are inclined to think evidences rather a mortgage than an absolute sale it recites that the claimants are involved as indorsers of a mercantile firm of which the defendant was a partner that an execution for upwards of fourteen thousand dollars against their estate is in the sheriffs hands and that a conveyance is made of the crop of cotton corn and oats which the grantor agrees to give up at any time to the use of the claimants so as to prevent injury to them as indorsers the defendant in execution might at any time have divested the interest which the contract vested in the claimants by discharging their liability as his indorsers or a judgment creditor might have satisfied the lien and when the crop was gathered have levied on and sold it under a fieri facias we will then consider the writing under which the claimants assert a right as a mortgage with a power to take possession any time during the year unless they should be relieved from their engagements as indorsers it is not pretended that their liability has been satisfied and it is admitted that the parties have acted with good faith so that it is a dry question of law whether the right of the plaintiff or the claimants shall prevail assuming for the present that the execution of the plaintiffs did not operate a lien upon the planted crop previous to the contract of may 1840 we will inquire whether the defendant in execution had such an interest as could be levied on and sold the claimants had previous to the levy of the execution taken possession of the crop prepared the cotton for market and removed it to a warehouse this possession it is insisted was a trespass because it was acquired in the absence of the defendant in execution and without his consent then given conceding the truth of the facts stated in the bill of exceptions and we think it will not follow that the possession of the claimants is a nullity and that the case must be considered as if they had never interfered with the crop the contract contains an express undertaking to give up the crop at any time the claimants might require it for their indemnity and if they took possession of it in the absence of the grantor though without his consent if he subsequently acquiesced in it the inference would be if necessary that their acts were approved by him taking this to be clear 744 law and it will be seen that the defendant in execution at the time of the levy had nothing', ''), ('before', 'a mere equitable right to redeem the cotton by paying the debts indorsed by the claimants he had no possession coupled with this equity but only a naked equity which it has been held cannot be reached by an ordinary execution perkins and elliott v mayfield 5 porters rep 182 3 this brings us back to the question whether the execution of the plaintiff was a lien on the growing crop so as to defeat the mortgage to the claimants it has been frequently mooted whether at common law corn c', ''), ('before', 'it is gathered can be seized under a fieri facias mr dane in remarking upon this point says the american editor of bacons abridgment says wheat growing in the ground is a chattel and subject to be taken in execution and the sheriff may suffer it to grow till harvest and then cut and sell it or may perhaps sell it growing and the purchaser will then be entitled to enter for the purpose of cutting and carrying it away he cites whipple v foot ut supra also pooles case salk 368 1 bos  p 397 6 east 604 n but whipple v foot seems to be the only case that supports his position that unripe wheat or corn may be taken in execution and the same editor states that nothing can be taken in execution which cannot be sold this position says the learned commentator is no doubt law but it is unnecessary to consider how this matter stands at common law the first section of the act of 1821 to prevent sheriffs and other officers from levying executions in certain cases enacts that it shall not be lawful for any sheriff or other officer to levy a writ of fieri facias or other execution on the planted crop of a debtor or person against whom an execution may issue until the crop is gathered aik dig 167 now here is an express inhibition to levy an execution on a crop while it remains on or in the ground and until it is severed from the soil to which it owes its growth in respect to property thus situated will the lien of an execution attach eo instanti upon its being placed in the hands of an officer if so the act cited will only have the effect of keeping the right to levy it in abeyance until the crop is gathered the lien of an execution does not only operate so as to prevent the debtor from disposing of the property on which it attaches but gives to the creditor the right to have it sold to satisfy his 745 judgment the lien and the right to levy are intimately connected and if the latter be taken away or suspended the effect at common law is the destruction of the former this principle is fully established by mansony and hurtell v the president c of the bank of the united states and its assignees and the citations contained in the opinion of the court in that case as also in my opinion in wood v gary et al both decided at the last term that it was competent for the legislature to have made it unlawful to levy an execution on particular property until its condition was changed and still to give it a continuing lien cannot be doubted but there is nothing in the act in question to indicate that such is its intention if the object was merely to suspend the sale until the crop was gathered it would have been very easy to have said so in explicit terms but declaring as the statute does in totidem verbis that the execution shall not be levied the legislature must be supposed to have meant what they have expressed the act was induced by the doubts which existed as to what was the common law and was intended to remove those doubts by declaring what should be the law in future it does not create a lien or authorize a levy in a case in which the law as it then existed was silent the idea that the lien attached upon the planted crop as soon as the execution was delivered to the sheriff though the right to levy it was postponed until a severance took place is attempted to be deduced from the last words of the section cited viz until the crop is gathered these words cannot upon any just principles of construction be regarded so potent as to give to an execution a retrospective effect they do not refer to the lien if they did they would postpone it until the crop was gathered but it is the levy they relate to and postpone until that event takes place 4 the right to levy an execution on a planted crop then being expressly taken away by the statute the lien which is connected with and consequent upon that right never attaches until severance this being the case the right of the defendant in execution to make the contract which he did is unquestionable and the title of the claimants coupled as it was with the possession was paramount to any lien which the execution could exert the circuit judge may have mistaken the law in supposing that the contract was a sale but if he did an error in that respect was very immaterial for whether a sale or mortgage as we have 746 seen under the facts of the case the defendant in execution has no interest that could be seised and sold under execution there is no assumption of any material fact in the charge but the possession of the claimant the time when acquired the gathering of the crop c are all referred to the determination of the jury who are instructed if they find them according to the evidence adduced that no lien ever attached in favor of the plaintiff the bona fides of the contract was conceded so that no charge was necessary on that point and it could not with propriety enter into the inquiry of the jury it results from what has been said that the judgment of the circuit court is affirmed  dissenting opinion  ormond j 4 the statute which presents the question', ''), ('after', 'the court is that it shall not be lawful for any sheriff or other officer to levy a writ of fieei facias or other execution on the planted crop of a debtor or person against whom an execution may issue until the crop is gathered clays dig 210  46 i shall not enter upon the enquiry whether at common law an execution could be levied upon a growing crop though i apprehend it would not be difficult to maintain the affirmative of the proposition it is sufficient for my purpose that the statute supposes such to have been the law as it doubtless was the practice this act must be considered in connection with the other acts upon the same subject the policy of the state as indicated by these statutes is undeniably that all the property of a debtor real and personal to which he has a legal title shall be subject to sale by execution and it appears to me that it would be difficult to assign a reason for the exemption of this species of property from the claims of judgment creditors and for giving to the defendant in execution the right to dispose of it it appears to me with all deference that the argument that because the sheriff was prohibited from levying on a planted crop that therefore the execution had lost its lien and the debtor had the right to sell it is a non sequitur the mischief which the statute designed to remedy was the sacrifice which would be necessarily made by the sale of an immature crop the statute enables the debtor to retain it until it matures and by severing it from the soil to put it 747 in a condition to bring its valuethe lien in the mean time continuing in the plaintiff in execution 5 if further confirmation of the correctness of this view were necessary it will be found i think in the language employed by the legislature the sheriff is forbidden to levy on a planted crop until the crop is gathered now if the view taken by the majority of the court is correct the right secured to the plaintiff in execution of levying on the crop', ''), ('before', 'it is gathered may be frustrated as it was in this case by a sale by the defendant in execution whilst the crop is in an immature state the construction which has been put upon the statute involves the singular anomaly that the legislature for the protection of the debtor has forbidden the plaintiff in execution to sell the property of his debtor because it is not in a condition to bring its value and yet permits the debtor voluntarily by a sale to submit to the same sacrifice for his own benefit it is in effect a gift to the defendant in execution of the growing crop provided he does not gather it himself but disposes of it in its then condition this i feel a thorough conviction was not the intention of the legislature but that it was to secure him from loss by prohibiting a levy and sale of the crop until it was gathered when the temporary suspension of the right to sell ceased all citations 5 ala 740 1843 wl 284 end of document  2019 thomson reuters no claim to original us government works citing references 9 treatment title date type depth headnotes cited by 1  booker v joness admx 55 ala 266 271  ala trover for conversion of cotton with counts in case appeal from the circuit court of hale tried', ''), ('before', 'the hon m j saffold dec term 1876 case  cited by 2  lehman durr  co v marshall 47 ala 362 376  ala trover for conversion of cotton appeal from the city court of montgomery tried', ''), ('before', 'hon john d cunningham jan term 1872 case  cited by 3  bibb v janney 45 ala 329 334  ala garnishment wages waiver of exemption appeal from city court of montgomery tried', ''), ('before', 'hon john d cunningham jan term 1871 case  cited by 4  mckenzie v lampley 31 ala 526 527  ala trial of right of property in cotton appeal from the circuit court of barbour tried', ''), ('before', 'the hon s d hale jan term 1858 case  cited by 5  evans v lamar 21 ala 333 335  ala error to the circuit court of autauga tried', ''), ('before', 'the hon a b moore jun term 1852 case  cited by  6  dewey v bowman 8 cal 145 147  cal the judgment of the court below against jacob s cohen should be reversed for the following reasons because the finding of the court was so far as cohen was concerned jul term 1857 case  mentioned by 7  rees v coats 65 ala 256 258  ala trover for conversion of three bales of cotton appeal from the circuit court of etowah tried', '')]\n"
          ],
          "name": "stdout"
        }
      ]
    },
    {
      "cell_type": "markdown",
      "metadata": {
        "id": "c8a47VAVwvFj"
      },
      "source": [
        "**Copyrights**"
      ]
    },
    {
      "cell_type": "code",
      "metadata": {
        "colab": {
          "base_uri": "https://localhost:8080/"
        },
        "id": "9EzFeqonaTKj",
        "outputId": "c32ba5ee-4552-4cce-d8e7-f8e638c19950"
      },
      "source": [
        "import lexnlp.extract.en.copyright\r\n",
        "print(list(lexnlp.extract.en.copyright.get_copyright(Text)))"
      ],
      "execution_count": null,
      "outputs": [
        {
          "output_type": "stream",
          "text": [
            "[]\n"
          ],
          "name": "stdout"
        }
      ]
    },
    {
      "cell_type": "markdown",
      "metadata": {
        "id": "mUX75CZ_xDGm"
      },
      "source": [
        "**Courts**"
      ]
    },
    {
      "cell_type": "code",
      "metadata": {
        "colab": {
          "base_uri": "https://localhost:8080/"
        },
        "id": "mUtRzqCJw-dD",
        "outputId": "062e62e9-d46f-4ab8-c0fa-b5b684d7b0dc"
      },
      "source": [
        "import lexnlp.extract.en.courts\r\n",
        "try:\r\n",
        "  print(list(lexnlp.extract.en.courts.get_courts(Text)))\r\n",
        "except:\r\n",
        "  print(None)"
      ],
      "execution_count": null,
      "outputs": [
        {
          "output_type": "stream",
          "text": [
            "None\n"
          ],
          "name": "stdout"
        }
      ]
    },
    {
      "cell_type": "markdown",
      "metadata": {
        "id": "PUj-fppUx2J_"
      },
      "source": [
        "**Cusip**"
      ]
    },
    {
      "cell_type": "code",
      "metadata": {
        "colab": {
          "base_uri": "https://localhost:8080/"
        },
        "id": "IzEKisC0awIB",
        "outputId": "cc6e5777-811b-46bd-9244-0276f3ee8884"
      },
      "source": [
        "import lexnlp.extract.en.cusip\r\n",
        "print(list(lexnlp.extract.en.cusip.get_cusip(Text)))"
      ],
      "execution_count": null,
      "outputs": [
        {
          "output_type": "stream",
          "text": [
            "[]\n"
          ],
          "name": "stdout"
        }
      ]
    },
    {
      "cell_type": "markdown",
      "metadata": {
        "id": "eVych7oZx-z7"
      },
      "source": [
        "**Dates**"
      ]
    },
    {
      "cell_type": "code",
      "metadata": {
        "colab": {
          "base_uri": "https://localhost:8080/"
        },
        "id": "QDx_Xa-ca-7e",
        "outputId": "60cfbd6a-ac05-43b6-9a01-20ac9576abdb"
      },
      "source": [
        "import lexnlp.extract.en.dates\r\n",
        "print(list(lexnlp.extract.en.dates.get_dates(Text)))"
      ],
      "execution_count": null,
      "outputs": [
        {
          "output_type": "stream",
          "text": [
            "[datetime.date(2021, 6, 1), datetime.date(1840, 11, 1), datetime.date(1839, 10, 1), datetime.date(1840, 5, 1), datetime.date(1840, 9, 1), datetime.date(1840, 5, 1), datetime.date(1840, 5, 1), datetime.date(2021, 12, 1), datetime.date(2021, 12, 1), datetime.date(2021, 1, 1), datetime.date(2021, 1, 1), datetime.date(2021, 1, 1), datetime.date(2021, 3, 21), datetime.date(2021, 6, 1), datetime.date(2021, 7, 1), datetime.date(2021, 11, 1), datetime.date(1887, 5, 1)]\n"
          ],
          "name": "stdout"
        }
      ]
    },
    {
      "cell_type": "markdown",
      "metadata": {
        "id": "56w-5U8FyFK5"
      },
      "source": [
        "**Definitions**"
      ]
    },
    {
      "cell_type": "code",
      "metadata": {
        "colab": {
          "base_uri": "https://localhost:8080/"
        },
        "id": "fDP2QJbhbFq2",
        "outputId": "e336456a-d6ba-488c-aa60-f6827c87a505"
      },
      "source": [
        "import lexnlp.extract.en.definitions\r\n",
        "print(list(lexnlp.extract.en.definitions.get_definitions(Text)))"
      ],
      "execution_count": null,
      "outputs": [
        {
          "output_type": "stream",
          "text": [
            "[]\n"
          ],
          "name": "stdout"
        }
      ]
    },
    {
      "cell_type": "markdown",
      "metadata": {
        "id": "loVikrNKyNTl"
      },
      "source": [
        "**Distances**"
      ]
    },
    {
      "cell_type": "code",
      "metadata": {
        "colab": {
          "base_uri": "https://localhost:8080/"
        },
        "id": "Zj62FTA-bKzy",
        "outputId": "5d9678ca-ad9c-4f02-9e47-3c8e5b93feb2"
      },
      "source": [
        "import lexnlp.extract.en.distances\r\n",
        "print(list(lexnlp.extract.en.distances.get_distances(Text)))"
      ],
      "execution_count": null,
      "outputs": [
        {
          "output_type": "stream",
          "text": [
            "[]\n"
          ],
          "name": "stdout"
        }
      ]
    },
    {
      "cell_type": "markdown",
      "metadata": {
        "id": "Dfa1iY9QyVGT"
      },
      "source": [
        "**Durations**"
      ]
    },
    {
      "cell_type": "code",
      "metadata": {
        "colab": {
          "base_uri": "https://localhost:8080/"
        },
        "id": "BScPSBVGbPtV",
        "outputId": "7553ac8d-679a-48ac-d27c-c8761d1d50a8"
      },
      "source": [
        "import lexnlp.extract.en.durations\r\n",
        "print(list(lexnlp.extract.en.durations.get_durations(Text)))"
      ],
      "execution_count": null,
      "outputs": [
        {
          "output_type": "stream",
          "text": [
            "[('year', Decimal('6.0'), Decimal('2190.0'))]\n"
          ],
          "name": "stdout"
        }
      ]
    },
    {
      "cell_type": "markdown",
      "metadata": {
        "id": "Ao_gADZ5y-M1"
      },
      "source": [
        "**Geo graphical locations**"
      ]
    },
    {
      "cell_type": "code",
      "metadata": {
        "colab": {
          "base_uri": "https://localhost:8080/"
        },
        "id": "cpY5AtHfydOK",
        "outputId": "662a3c9e-6830-4efb-fb38-88cc2b34029d"
      },
      "source": [
        "import lexnlp.extract.en.geoentities \r\n",
        "try:\r\n",
        "  print(list(lexnlp.extract.en.geoentities.get_geoentities(Text)))\r\n",
        "except:\r\n",
        "  print(None)"
      ],
      "execution_count": null,
      "outputs": [
        {
          "output_type": "stream",
          "text": [
            "None\n"
          ],
          "name": "stdout"
        }
      ]
    },
    {
      "cell_type": "markdown",
      "metadata": {
        "id": "waAbzh9WzMtw"
      },
      "source": [
        "**Money**"
      ]
    },
    {
      "cell_type": "code",
      "metadata": {
        "colab": {
          "base_uri": "https://localhost:8080/"
        },
        "id": "7c2Cp8_2bqhV",
        "outputId": "c0702021-30a7-415d-81f4-6dbf778b7e9a"
      },
      "source": [
        "import lexnlp.extract.en.money\r\n",
        "print(list(lexnlp.extract.en.money.get_money(Text)))"
      ],
      "execution_count": null,
      "outputs": [
        {
          "output_type": "stream",
          "text": [
            "[(Decimal('80100.0'), 'USD'), (Decimal('14000.0'), 'USD'), (Decimal('14000.0'), 'USD')]\n"
          ],
          "name": "stdout"
        }
      ]
    },
    {
      "cell_type": "markdown",
      "metadata": {
        "id": "EmqdDMolzRZT"
      },
      "source": [
        "**Percents**"
      ]
    },
    {
      "cell_type": "code",
      "metadata": {
        "colab": {
          "base_uri": "https://localhost:8080/"
        },
        "id": "9FE2OmFybwEX",
        "outputId": "0a266d11-8498-4195-b19b-975ba05a0abb"
      },
      "source": [
        "import lexnlp.extract.en.percents\r\n",
        "print(list(lexnlp.extract.en.percents.get_percents(Text)))"
      ],
      "execution_count": null,
      "outputs": [
        {
          "output_type": "stream",
          "text": [
            "[]\n"
          ],
          "name": "stdout"
        }
      ]
    },
    {
      "cell_type": "markdown",
      "metadata": {
        "id": "rXkCtpDGzY8u"
      },
      "source": [
        "**Pii**"
      ]
    },
    {
      "cell_type": "code",
      "metadata": {
        "colab": {
          "base_uri": "https://localhost:8080/"
        },
        "id": "tWME-iJNb0_z",
        "outputId": "630bb6ac-bea1-4c16-db5b-0fd8156093c5"
      },
      "source": [
        "import lexnlp.extract.en.pii\r\n",
        "print(list(lexnlp.extract.en.pii.get_pii(Text)))"
      ],
      "execution_count": null,
      "outputs": [
        {
          "output_type": "stream",
          "text": [
            "[]\n"
          ],
          "name": "stdout"
        }
      ]
    },
    {
      "cell_type": "markdown",
      "metadata": {
        "id": "QB5lKlV8ze33"
      },
      "source": [
        "**Ratios**"
      ]
    },
    {
      "cell_type": "code",
      "metadata": {
        "colab": {
          "base_uri": "https://localhost:8080/"
        },
        "id": "E0FGHxf3b6ux",
        "outputId": "4cdf17f0-8a9b-4956-8aec-60cf4c7abfa9"
      },
      "source": [
        "import lexnlp.extract.en.ratios\r\n",
        "print(list(lexnlp.extract.en.ratios.get_ratios(Text)))"
      ],
      "execution_count": null,
      "outputs": [
        {
          "output_type": "stream",
          "text": [
            "[]\n"
          ],
          "name": "stdout"
        }
      ]
    },
    {
      "cell_type": "markdown",
      "metadata": {
        "id": "bpFfMSYYzhY0"
      },
      "source": [
        "**Regulations**"
      ]
    },
    {
      "cell_type": "code",
      "metadata": {
        "colab": {
          "base_uri": "https://localhost:8080/"
        },
        "id": "W3M_A6vYcDIz",
        "outputId": "ecbd7a03-5af7-4b47-c3aa-f12de208445a"
      },
      "source": [
        "import lexnlp.extract.en.regulations\r\n",
        "print(list(lexnlp.extract.en.regulations.get_regulations(Text)))"
      ],
      "execution_count": null,
      "outputs": [
        {
          "output_type": "stream",
          "text": [
            "[]\n"
          ],
          "name": "stdout"
        }
      ]
    },
    {
      "cell_type": "markdown",
      "metadata": {
        "id": "hFKtmM-YzscD"
      },
      "source": [
        "**Trademarks**"
      ]
    },
    {
      "cell_type": "code",
      "metadata": {
        "colab": {
          "base_uri": "https://localhost:8080/"
        },
        "id": "uZK8mQNEcHyI",
        "outputId": "e3f52a1a-ecf6-4583-ae85-83043537babf"
      },
      "source": [
        "import lexnlp.extract.en.trademarks\r\n",
        "print(list(lexnlp.extract.en.trademarks.get_trademarks(Text)))"
      ],
      "execution_count": null,
      "outputs": [
        {
          "output_type": "stream",
          "text": [
            "[]\n"
          ],
          "name": "stdout"
        }
      ]
    },
    {
      "cell_type": "markdown",
      "metadata": {
        "id": "OHpF9qjHzuZ0"
      },
      "source": [
        "**URLs**"
      ]
    },
    {
      "cell_type": "code",
      "metadata": {
        "colab": {
          "base_uri": "https://localhost:8080/"
        },
        "id": "gTesdZOtcKqF",
        "outputId": "222aeb54-15bf-42a1-e224-2d40fa7bbc9d"
      },
      "source": [
        "import lexnlp.extract.en.urls\r\n",
        "print(list(lexnlp.extract.en.urls.get_urls(Text)))"
      ],
      "execution_count": null,
      "outputs": [
        {
          "output_type": "stream",
          "text": [
            "[]\n"
          ],
          "name": "stdout"
        }
      ]
    },
    {
      "cell_type": "code",
      "metadata": {
        "colab": {
          "base_uri": "https://localhost:8080/"
        },
        "id": "5ou9xLzocUAk",
        "outputId": "fc44f530-e1b4-4888-f436-4f6c2244e598"
      },
      "source": [
        "pip install pyap"
      ],
      "execution_count": null,
      "outputs": [
        {
          "output_type": "stream",
          "text": [
            "Collecting pyap\n",
            "  Downloading https://files.pythonhosted.org/packages/53/b2/f0f962a5385d54cd91c153df93932b4996b793f1a2145807823d7f71328d/pyap-0.3.1-py2.py3-none-any.whl\n",
            "Installing collected packages: pyap\n",
            "Successfully installed pyap-0.3.1\n"
          ],
          "name": "stdout"
        }
      ]
    },
    {
      "cell_type": "markdown",
      "metadata": {
        "id": "kjUOQSDj-q_P"
      },
      "source": [
        "**Addresses**"
      ]
    },
    {
      "cell_type": "code",
      "metadata": {
        "colab": {
          "base_uri": "https://localhost:8080/"
        },
        "id": "7pHINT1icXfQ",
        "outputId": "96e30846-4978-4d69-92db-9278d8af2410"
      },
      "source": [
        "import pyap\r\n",
        "address = pyap.parse(Text, country='US')\r\n",
        "for i in address:\r\n",
        "  print(i)\r\n",
        "  print(i.as_dict())"
      ],
      "execution_count": null,
      "outputs": [
        {
          "output_type": "stream",
          "text": [
            "5 Ala 740 Supreme Court of Alabama ADAMS\n",
            "{'full_address': '5 Ala 740 Supreme Court of Alabama ADAMS', 'full_street': '5 Ala 740 Supreme Court', 'street_number': '5', 'street_name': 'Ala 740 Supreme', 'street_type': 'Court', 'route_id': None, 'post_direction': None, 'floor': None, 'building_id': None, 'occupancy': None, 'city': 'of Alabama ADA', 'region1': 'MS', 'postal_code': None, 'country_id': 'US', 'match_start': 1, 'match_end': 42}\n"
          ],
          "name": "stdout"
        }
      ]
    },
    {
      "cell_type": "code",
      "metadata": {
        "colab": {
          "base_uri": "https://localhost:8080/"
        },
        "id": "ORaMhdIWcdt8",
        "outputId": "fd0c7624-3c94-455e-a9ba-586f27344608"
      },
      "source": [
        "\r\n",
        "!wget 'https://nlp.stanford.edu/software/stanford-ner-2018-10-16.zip'\r\n",
        "!unzip stanford-ner-2018-10-16.zip"
      ],
      "execution_count": null,
      "outputs": [
        {
          "output_type": "stream",
          "text": [
            "--2021-03-07 00:00:16--  https://nlp.stanford.edu/software/stanford-ner-2018-10-16.zip\n",
            "Resolving nlp.stanford.edu (nlp.stanford.edu)... 171.64.67.140\n",
            "Connecting to nlp.stanford.edu (nlp.stanford.edu)|171.64.67.140|:443... connected.\n",
            "HTTP request sent, awaiting response... 200 OK\n",
            "Length: 180358328 (172M) [application/zip]\n",
            "Saving to: ‘stanford-ner-2018-10-16.zip’\n",
            "\n",
            "stanford-ner-2018-1 100%[===================>] 172.00M  1.24MB/s    in 2m 53s  \n",
            "\n",
            "2021-03-07 00:03:10 (1019 KB/s) - ‘stanford-ner-2018-10-16.zip’ saved [180358328/180358328]\n",
            "\n",
            "Archive:  stanford-ner-2018-10-16.zip\n",
            "   creating: stanford-ner-2018-10-16/\n",
            "  inflating: stanford-ner-2018-10-16/README.txt  \n",
            "  inflating: stanford-ner-2018-10-16/ner-gui.bat  \n",
            "  inflating: stanford-ner-2018-10-16/build.xml  \n",
            "  inflating: stanford-ner-2018-10-16/stanford-ner.jar  \n",
            "  inflating: stanford-ner-2018-10-16/sample-conll-file.txt  \n",
            "  inflating: stanford-ner-2018-10-16/sample.ner.txt  \n",
            "  inflating: stanford-ner-2018-10-16/stanford-ner-3.9.2-sources.jar  \n",
            "   creating: stanford-ner-2018-10-16/lib/\n",
            "  inflating: stanford-ner-2018-10-16/lib/joda-time.jar  \n",
            "  inflating: stanford-ner-2018-10-16/lib/stanford-ner-resources.jar  \n",
            "  inflating: stanford-ner-2018-10-16/lib/jollyday-0.4.9.jar  \n",
            "  inflating: stanford-ner-2018-10-16/ner-gui.command  \n",
            "  inflating: stanford-ner-2018-10-16/ner.sh  \n",
            "  inflating: stanford-ner-2018-10-16/stanford-ner-3.9.2.jar  \n",
            "  inflating: stanford-ner-2018-10-16/NERDemo.java  \n",
            "  inflating: stanford-ner-2018-10-16/stanford-ner-3.9.2-javadoc.jar  \n",
            "  inflating: stanford-ner-2018-10-16/ner.bat  \n",
            "   creating: stanford-ner-2018-10-16/classifiers/\n",
            "  inflating: stanford-ner-2018-10-16/classifiers/english.conll.4class.distsim.prop  \n",
            "  inflating: stanford-ner-2018-10-16/classifiers/example.serialized.ncc.ncc.ser.gz  \n",
            "  inflating: stanford-ner-2018-10-16/classifiers/english.muc.7class.distsim.crf.ser.gz  \n",
            "  inflating: stanford-ner-2018-10-16/classifiers/english.conll.4class.distsim.crf.ser.gz  \n",
            "  inflating: stanford-ner-2018-10-16/classifiers/english.muc.7class.distsim.prop  \n",
            "  inflating: stanford-ner-2018-10-16/classifiers/english.all.3class.distsim.prop  \n",
            "  inflating: stanford-ner-2018-10-16/classifiers/example.serialized.ncc.prop  \n",
            "  inflating: stanford-ner-2018-10-16/classifiers/english.all.3class.distsim.crf.ser.gz  \n",
            "  inflating: stanford-ner-2018-10-16/sample.txt  \n",
            "  inflating: stanford-ner-2018-10-16/sample-w-time.txt  \n",
            "  inflating: stanford-ner-2018-10-16/ner-gui.sh  \n",
            "  inflating: stanford-ner-2018-10-16/LICENSE.txt  \n"
          ],
          "name": "stdout"
        }
      ]
    },
    {
      "cell_type": "code",
      "metadata": {
        "id": "-d9ddrxuc5dT"
      },
      "source": [
        "from zipfile import ZipFile\r\n",
        "with ZipFile('stanford-ner-2018-10-16.zip', 'r') as zipObj:\r\n",
        "   zipObj.extractall('/stanford')"
      ],
      "execution_count": null,
      "outputs": []
    },
    {
      "cell_type": "markdown",
      "metadata": {
        "id": "Rm7T-uSy_bGn"
      },
      "source": [
        "Person"
      ]
    },
    {
      "cell_type": "code",
      "metadata": {
        "colab": {
          "base_uri": "https://localhost:8080/"
        },
        "id": "oCYtJ84MdFHc",
        "outputId": "d8f080ab-0315-4317-aac2-303259ffe12b"
      },
      "source": [
        "import nltk\r\n",
        "from nltk.tag.stanford import StanfordNERTagger\r\n",
        "st = StanfordNERTagger('/stanford/stanford-ner-2018-10-16/classifiers/english.all.3class.distsim.crf.ser.gz', '/stanford/stanford-ner-2018-10-16/stanford-ner.jar')\r\n",
        "for sent in nltk.sent_tokenize(Text):\r\n",
        "    for tag in st.tag(nltk.tokenize.word_tokenize(sent)):\r\n",
        "        if tag[1]=='PERSON': print(tag)"
      ],
      "execution_count": null,
      "outputs": [
        {
          "output_type": "stream",
          "text": [
            "('Lien', 'PERSON')\n",
            "('Allen', 'PERSON')\n",
            "('Harrison', 'PERSON')\n",
            "('Allen', 'PERSON')\n",
            "('Harrison', 'PERSON')\n",
            "('Harrison', 'PERSON')\n",
            "('Harrison', 'PERSON')\n",
            "('Burton', 'PERSON')\n",
            "('Harrison', 'PERSON')\n",
            "('Allen', 'PERSON')\n",
            "('Harrison', 'PERSON')\n",
            "('Harrison', 'PERSON')\n",
            "('Harrison', 'PERSON')\n",
            "('SMITH', 'PERSON')\n",
            "('Harrison', 'PERSON')\n",
            "('Harrison', 'PERSON')\n",
            "('W', 'PERSON')\n",
            "('G', 'PERSON')\n",
            "('JONES', 'PERSON')\n",
            "('Perkins', 'PERSON')\n",
            "('Dane', 'PERSON')\n",
            "('Salk', 'PERSON')\n",
            "('Mansony', 'PERSON')\n",
            "('Gary', 'PERSON')\n",
            "('Hon', 'PERSON')\n",
            "('JOHN', 'PERSON')\n",
            "('D', 'PERSON')\n",
            "('CUNNINGHAM', 'PERSON')\n",
            "('Hon', 'PERSON')\n",
            "('JOHN', 'PERSON')\n",
            "('D', 'PERSON')\n",
            "('CUNNINGHAM', 'PERSON')\n",
            "('Jacob', 'PERSON')\n",
            "('S', 'PERSON')\n",
            "('Cohen', 'PERSON')\n",
            "('Cohen', 'PERSON')\n",
            "('Weakley', 'PERSON')\n"
          ],
          "name": "stdout"
        }
      ]
    }
  ]
}